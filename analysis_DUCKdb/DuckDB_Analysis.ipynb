{
 "cells": [
  {
   "cell_type": "markdown",
   "id": "f3a5341c-2365-46ba-85a3-e6bf1b6cd7b9",
   "metadata": {},
   "source": [
    "# Load cleaned banking CSV files into DuckDB tables for analysis"
   ]
  },
  {
   "cell_type": "code",
   "execution_count": 70,
   "id": "fcf2a276-0cde-4275-98dd-0fa19e417217",
   "metadata": {},
   "outputs": [
    {
     "data": {
      "text/plain": [
       "<duckdb.duckdb.DuckDBPyConnection at 0x1252d1bf0>"
      ]
     },
     "execution_count": 70,
     "metadata": {},
     "output_type": "execute_result"
    }
   ],
   "source": [
    "import duckdb\n",
    "\n",
    "con = duckdb.connect()\n",
    "\n",
    "base_path = \"/Users/mac/Desktop/Banking_project/raw_data_clean\"\n",
    "\n",
    "con.execute(f\"\"\"\n",
    "CREATE OR REPLACE TABLE customers AS \n",
    "SELECT * FROM read_csv_auto('{base_path}/bank_customers_cleaned.csv');\n",
    "\"\"\")\n",
    "\n",
    "con.execute(f\"\"\"\n",
    "CREATE OR REPLACE TABLE accounts AS \n",
    "SELECT * FROM read_csv_auto('{base_path}/bank_accounts_cleaned.csv');\n",
    "\"\"\")\n",
    "\n",
    "con.execute(f\"\"\"\n",
    "CREATE OR REPLACE TABLE loans AS \n",
    "SELECT * FROM read_csv_auto('{base_path}/bank_loans_cleaned.csv');\n",
    "\"\"\")\n",
    "\n",
    "con.execute(f\"\"\"\n",
    "CREATE OR REPLACE TABLE transactions AS \n",
    "SELECT * FROM read_csv_auto('{base_path}/bank_transactions_cleaned.csv');\n",
    "\"\"\")\n",
    "\n",
    "con.execute(f\"\"\"\n",
    "CREATE OR REPLACE TABLE complaints AS \n",
    "SELECT * FROM read_csv_auto('{base_path}/bank_complaints_cleaned.csv');\n",
    "\"\"\")\n",
    "\n"
   ]
  },
  {
   "cell_type": "markdown",
   "id": "c053240f-4e15-4957-b0ff-20d8c909cba7",
   "metadata": {},
   "source": [
    "# Overviwe Analysis Page with 10 KPI's"
   ]
  },
  {
   "cell_type": "markdown",
   "id": "a0d2048d-61ab-48f0-9ad8-6f46d42cbf77",
   "metadata": {},
   "source": [
    "###  Total number of unique customers\n"
   ]
  },
  {
   "cell_type": "code",
   "execution_count": 71,
   "id": "2b00a1c5-a32f-4201-8dc4-f2c711f0f402",
   "metadata": {},
   "outputs": [],
   "source": [
    "ov_kpi_1 = con.execute(\"\"\"\n",
    "    SELECT COUNT(DISTINCT customer_id) AS no_of_customers \n",
    "    FROM customers\n",
    "                    \"\"\").df\n"
   ]
  },
  {
   "cell_type": "markdown",
   "id": "14bccf1f-5191-491f-91a6-b564e27c0a18",
   "metadata": {},
   "source": [
    "###  Total number of unique bank accounts\n"
   ]
  },
  {
   "cell_type": "code",
   "execution_count": 72,
   "id": "d112c365-60d8-4a1d-8f9f-eb45e45ea5e8",
   "metadata": {},
   "outputs": [],
   "source": [
    "ov_kpi_2 = con.execute(\"\"\"\n",
    "select count(distinct account_id) as NO_OF_ACC from accounts\n",
    "                    \"\"\").df()"
   ]
  },
  {
   "cell_type": "markdown",
   "id": "10835fd4-1904-448e-b858-c7fd4a69555b",
   "metadata": {},
   "source": [
    "###  Total number of unique transactions\n"
   ]
  },
  {
   "cell_type": "code",
   "execution_count": 73,
   "id": "95b94635-a5b4-432c-8380-7afbb9e371c2",
   "metadata": {},
   "outputs": [],
   "source": [
    "ov_kpi_3 = con.execute(\"\"\" \n",
    "select count(distinct transaction_id ) as NO_OF_TRANSACTIONS from transactions\n",
    "                    \"\"\").df()"
   ]
  },
  {
   "cell_type": "markdown",
   "id": "8007b87e-f866-486c-a77a-47d6740ccd7c",
   "metadata": {},
   "source": [
    "###  Total transaction amount (rounded to 2 decimals)\n"
   ]
  },
  {
   "cell_type": "code",
   "execution_count": 74,
   "id": "de7cdded-f241-43b6-9519-e96822f62601",
   "metadata": {},
   "outputs": [],
   "source": [
    "ov_kpi_4 = con.execute(\"\"\"\n",
    "select round(sum(amount),2) as TOTAL_AMOUNT from transactions\n",
    "                    \"\"\").df()"
   ]
  },
  {
   "cell_type": "markdown",
   "id": "e8987579-6621-4e10-89ed-2028d810dbc8",
   "metadata": {},
   "source": [
    "###  Average transaction amount (rounded to 2 decimals)\n"
   ]
  },
  {
   "cell_type": "code",
   "execution_count": 75,
   "id": "295504e2-1a61-4cd7-a305-26026cf17960",
   "metadata": {},
   "outputs": [],
   "source": [
    "ov_kpi_5 = con.execute(\"\"\"\n",
    "select round(avg(amount),2) as AVG_TRANS_AMOUNT from transactions\n",
    "                    \"\"\").df()"
   ]
  },
  {
   "cell_type": "markdown",
   "id": "06f6f59c-f084-4888-9e10-7871b84e3afc",
   "metadata": {},
   "source": [
    "###  Percentage of defaulted loans (rounded to 2 decimals)\n"
   ]
  },
  {
   "cell_type": "code",
   "execution_count": 76,
   "id": "c6409ee1-5ede-4f71-b131-d3d58d595a4b",
   "metadata": {},
   "outputs": [],
   "source": [
    "ov_kpi_6 = con.execute(\"\"\" \n",
    "select round(\n",
    "(select count(*) from loans where loan_status = 'Defaulted') / count(*) * 100 \n",
    "             ,2)\n",
    "as DEF__LOANS_PERCENT from loans \n",
    "                    \"\"\").df()"
   ]
  },
  {
   "cell_type": "markdown",
   "id": "ab461182-cc7c-485a-a674-ff481ddc6a34",
   "metadata": {},
   "source": [
    "###  Percentage of customers who submitted complaints\n"
   ]
  },
  {
   "cell_type": "code",
   "execution_count": 77,
   "id": "8b2bdb9c-58fa-4b56-9408-f93ca0c6dba6",
   "metadata": {},
   "outputs": [],
   "source": [
    "ov_kpi_7 = con.execute(\"\"\" \n",
    "\n",
    "select round( \n",
    " count(distinct customer_id) / \n",
    "(select count(*) from customers ) * 100 \n",
    "      ,2)\n",
    "AS COMPLAINTS_CUS_RATIO \n",
    "from complaints  \n",
    "\"\"\").df()"
   ]
  },
  {
   "cell_type": "markdown",
   "id": "d1efb16b-723d-4cf6-9305-156708ce41e9",
   "metadata": {},
   "source": [
    "###  Top 5 cities by number of customers\n"
   ]
  },
  {
   "cell_type": "code",
   "execution_count": 78,
   "id": "e363f59a-34bf-4f59-a680-0b6a112af9b8",
   "metadata": {},
   "outputs": [],
   "source": [
    "ov_kpi_8 = con.execute(\"\"\" \n",
    "select city , count(customer_id) as NO_OF_CUSTOMERS \n",
    "from customers\n",
    "group by city \n",
    "order by count(customer_id) desc \n",
    "limit 5 \n",
    "\"\"\").df()"
   ]
  },
  {
   "cell_type": "markdown",
   "id": "4638f357-9182-449e-a15a-18303a196a16",
   "metadata": {},
   "source": [
    "###  Number of accounts by account type\n"
   ]
  },
  {
   "cell_type": "code",
   "execution_count": 79,
   "id": "b3700386-9923-494f-bb20-59e8b47e490e",
   "metadata": {},
   "outputs": [],
   "source": [
    "ov_kpi_9 = con.execute(\"\"\" \n",
    "select account_type , count(account_id) as NO_OF_ACCOUNTS \n",
    "from accounts \n",
    "group by account_type\n",
    "order by count(account_id) desc \n",
    "\"\"\").df() "
   ]
  },
  {
   "cell_type": "markdown",
   "id": "0a8ade9a-8186-46a1-998c-6df2e6ad770b",
   "metadata": {},
   "source": [
    "###  Number of complaints by status\n"
   ]
  },
  {
   "cell_type": "code",
   "execution_count": 80,
   "id": "cbd5e29b-7649-4202-9ae8-a43c584a030f",
   "metadata": {},
   "outputs": [],
   "source": [
    "ov_kpi_10 = con.execute(\"\"\" \n",
    "SELECT status, COUNT(complaint_id) AS no_of_complaints \n",
    "FROM complaints \n",
    "GROUP BY status \n",
    "ORDER BY COUNT(complaint_id) DESC\n",
    "\"\"\").df()\n"
   ]
  },
  {
   "cell_type": "markdown",
   "id": "0fa3caf5-1020-422a-9bb8-0c40fbc51f26",
   "metadata": {},
   "source": [
    "###  Export overview KPIs to CSV from 1 to 7 "
   ]
  },
  {
   "cell_type": "code",
   "execution_count": 81,
   "id": "d5e010bc-fc8b-4bce-a7a0-8d251c8aaa38",
   "metadata": {},
   "outputs": [],
   "source": [
    "import pandas as pd\n",
    "\n",
    "def extract_value(kpi):\n",
    "    if hasattr(kpi, 'iloc'):\n",
    "        return kpi.iloc[0, 0]\n",
    "    return kpi\n",
    "\n",
    "kpi_values = [\n",
    "    (\"NO_OF_CUSTOMERS\", extract_value(ov_kpi_1)),\n",
    "    (\"NO_OF_ACCOUNTS\", extract_value(ov_kpi_2)),\n",
    "    (\"NO_OF_TRANSACTIONS\", extract_value(ov_kpi_3)),\n",
    "    (\"TOTAL_TRANSACTION_AMOUNT\", extract_value(ov_kpi_4)),\n",
    "    (\"AVG_TRANS_AMOUNT\", extract_value(ov_kpi_5)),\n",
    "    (\"DEF_LOANS_PERCENT\", extract_value(ov_kpi_6)),\n",
    "    (\"COMPLAINTS_CUS_RATIO\", extract_value(ov_kpi_7)),\n",
    "]\n",
    "\n",
    "df = pd.DataFrame(kpi_values, columns=[\"KPI_NAME\", \"VALUE\"])\n",
    "\n",
    "df.to_csv(\"/Users/mac/Desktop/Banking_project/kpi_exports/overview_summary_kpis.csv\", index=False)\n"
   ]
  },
  {
   "cell_type": "markdown",
   "id": "1a8c5cbb-8684-412b-9270-2affde053e80",
   "metadata": {},
   "source": [
    "###  Export overview KPIs to CSV from 8 to 10 "
   ]
  },
  {
   "cell_type": "code",
   "execution_count": 82,
   "id": "624aebdc-47df-4b8b-92f3-d5e9ff82692b",
   "metadata": {},
   "outputs": [],
   "source": [
    "ov_kpi_8.to_csv(\"/Users/mac/Desktop/Banking_project/kpi_exports/overview_top5_cities.csv\", index=False)\n",
    "\n",
    "ov_kpi_9.to_csv(\"/Users/mac/Desktop/Banking_project/kpi_exports/overview_account_types_distribution.csv\", index=False)\n",
    "\n",
    "ov_kpi_10.to_csv(\"/Users/mac/Desktop/Banking_project/kpi_exports/overview_complaints_status_distribution.csv\", index=False)\n"
   ]
  },
  {
   "cell_type": "markdown",
   "id": "816ac1fc-4811-48bf-b551-95574af60b12",
   "metadata": {},
   "source": [
    "# Customers Analysis with 10 KPI's "
   ]
  },
  {
   "cell_type": "markdown",
   "id": "81280013-5e37-43a0-932f-94a400a64dc4",
   "metadata": {},
   "source": [
    "###  Average age of customers (rounded to 2 decimals)\n"
   ]
  },
  {
   "cell_type": "code",
   "execution_count": 83,
   "id": "fbc2732d-20ce-458b-a7cd-b6fea94e6073",
   "metadata": {},
   "outputs": [],
   "source": [
    "cus_kpi_1 = con.execute(\"\"\" \n",
    "select round(avg(age),2) as AVG_CUSTOMERS_AGEs from customers \n",
    "\"\"\").df()"
   ]
  },
  {
   "cell_type": "markdown",
   "id": "709c9029-cfc6-4b48-8775-1319d1daa7bb",
   "metadata": {},
   "source": [
    "###  Number of customers by marital status\n"
   ]
  },
  {
   "cell_type": "code",
   "execution_count": 84,
   "id": "3d4ad0ce-ee36-4308-bec0-6b2b90c679b6",
   "metadata": {},
   "outputs": [],
   "source": [
    "cus_kpi_2 = con.execute(\"\"\" \n",
    "select Marital_Status , count(customer_id) as NO_OF_CUSTOMERS from customers\n",
    "group by Marital_Status \n",
    "order by count(customer_id) desc\n",
    "\"\"\").df()"
   ]
  },
  {
   "cell_type": "markdown",
   "id": "a5cb0133-9f80-4573-885e-c3b8b531d6ed",
   "metadata": {},
   "source": [
    "###  Top 5 customer jobs by count\n"
   ]
  },
  {
   "cell_type": "code",
   "execution_count": 85,
   "id": "e961fd35-7b26-4776-94b0-f47eaf6c3aa7",
   "metadata": {},
   "outputs": [],
   "source": [
    "cus_kpi_3 = con.execute(\"\"\" \n",
    "select job , count(customer_id) as NO_OF_CUSTOMERS from customers \n",
    "group by job \n",
    "order by count(customer_id) desc\n",
    "limit 5 \n",
    "\"\"\").df()"
   ]
  },
  {
   "cell_type": "markdown",
   "id": "d1d42a6c-749a-487d-8dc2-682bea05237b",
   "metadata": {},
   "source": [
    "###  Number of customers by city\n"
   ]
  },
  {
   "cell_type": "code",
   "execution_count": 86,
   "id": "ff4d98cd-2e0d-4533-9655-dfb3679e1fd1",
   "metadata": {},
   "outputs": [],
   "source": [
    "cus_kpi_4 = con.execute(\"\"\" \n",
    "select city , count(customer_id) as NO_OF_CUSTOMERS from customers \n",
    "group by city \n",
    "order by count(customer_id) desc \n",
    "\"\"\").df()"
   ]
  },
  {
   "cell_type": "markdown",
   "id": "3c383018-3e06-4730-ac5b-8c6834c49764",
   "metadata": {},
   "source": [
    "###  Number of customers with at least one loan\n"
   ]
  },
  {
   "cell_type": "code",
   "execution_count": 87,
   "id": "d00f0a5d-ba76-4834-ac0c-4fdaddcad207",
   "metadata": {},
   "outputs": [],
   "source": [
    "cus_kpi_5 = con.execute(\"\"\" \n",
    "select count(distinct customer_id) as NO_OF_LOANED_CUSTOMERS from loans \n",
    "\"\"\").df() "
   ]
  },
  {
   "cell_type": "markdown",
   "id": "f72c93ce-ae6b-4b4a-9d4e-f5403c82a144",
   "metadata": {},
   "source": [
    "###  Percentage of customers with loans\n"
   ]
  },
  {
   "cell_type": "code",
   "execution_count": 88,
   "id": "c2891d2b-c92e-4dfb-bd69-c9d4f7ab0bf0",
   "metadata": {},
   "outputs": [],
   "source": [
    "cus_kpi_7 = con.execute(\"\"\" \n",
    "\n",
    "select round( \n",
    " count(distinct customer_id) / \n",
    "(select count(*) from customers ) * 100 \n",
    "      ,2)\n",
    "AS loaned_CUS_RATIO \n",
    "from loans\n",
    "\"\"\").df()"
   ]
  },
  {
   "cell_type": "markdown",
   "id": "a094004c-ee34-4769-a352-2b0bea3183b7",
   "metadata": {},
   "source": [
    "###  Average loan amount by customer age group\n"
   ]
  },
  {
   "cell_type": "code",
   "execution_count": 89,
   "id": "f83b77e3-4849-4bd4-a627-5559d75ab526",
   "metadata": {},
   "outputs": [],
   "source": [
    "cus_kpi_8 = con.execute(\"\"\"\n",
    "SELECT \n",
    "    age_group,\n",
    "    ROUND(AVG(loan_amount), 2) AS avg_loan_amount\n",
    "FROM (\n",
    "    SELECT \n",
    "        CONCAT(FLOOR(c.age / 10) * 10, '-', FLOOR(c.age / 10) * 10 + 9) AS age_group,\n",
    "        l.loan_amount\n",
    "    FROM customers c\n",
    "    JOIN loans l ON c.customer_id = l.customer_id\n",
    ") AS age_bins\n",
    "GROUP BY age_group\n",
    "ORDER BY age_group\n",
    "\"\"\").df()\n"
   ]
  },
  {
   "cell_type": "markdown",
   "id": "743aeea3-0a9d-4237-9066-503cf5c75156",
   "metadata": {},
   "source": [
    "###  City with the highest number of defaulted loans\n"
   ]
  },
  {
   "cell_type": "code",
   "execution_count": 90,
   "id": "e5660efc-b1e6-4aa8-9ac5-11c633f0717e",
   "metadata": {},
   "outputs": [],
   "source": [
    "cus_kpi_9 = con.execute(\"\"\"\n",
    "select c.city , count(l.loan_id) as MAX_LOANS \n",
    "from customers as c join loans as l \n",
    "on c.customer_id = l.customer_id \n",
    "where l.loan_status = 'Defaulted' \n",
    "group by c.city \n",
    "order by count(l.loan_id) desc \n",
    "limit 1\n",
    "\"\"\").df() "
   ]
  },
  {
   "cell_type": "markdown",
   "id": "efd51617-3669-4e42-9c01-b16d75107327",
   "metadata": {},
   "source": [
    "###  Sample of customers with accounts, loans, and complaints\n"
   ]
  },
  {
   "cell_type": "code",
   "execution_count": 91,
   "id": "7e71613e-7271-4db0-8120-e02f0a1754db",
   "metadata": {},
   "outputs": [],
   "source": [
    "cus_kpi_10 = con.execute(\"\"\"\n",
    "SELECT \n",
    "  c.customer_id, c.age,c.city, c.marital_status, c.job\n",
    "FROM customers c\n",
    "JOIN accounts as a ON c.customer_id = a.customer_id\n",
    "JOIN loans as l ON c.customer_id = l.customer_id\n",
    "JOIN complaints as cmp ON c.customer_id = cmp.customer_id\n",
    "LIMIT 10\n",
    "\"\"\").df() \n"
   ]
  },
  {
   "cell_type": "markdown",
   "id": "8b2146c6-4940-46e1-a6b2-ec339b26f863",
   "metadata": {},
   "source": [
    "###  Export customer summary KPIs to CSV 1,5,7,10 \n"
   ]
  },
  {
   "cell_type": "code",
   "execution_count": 92,
   "id": "917f853e-49d3-4d0b-9fa9-bd7b081798fa",
   "metadata": {},
   "outputs": [],
   "source": [
    "def extract_value(kpi):\n",
    "    if hasattr(kpi, 'iloc'):\n",
    "        return kpi.iloc[0, 0]\n",
    "    return kpi\n",
    "\n",
    "customer_summary = [\n",
    "    (\"AVG_CUSTOMERS_AGE\", extract_value(cus_kpi_1)),\n",
    "    (\"NO_OF_LOANED_CUSTOMERS\", extract_value(cus_kpi_5)),\n",
    "    (\"LOANED_CUS_RATIO\", extract_value(cus_kpi_7)),\n",
    "    (\"CUSTOMERS_WITH_ACC_LOAN_COMP\", extract_value(cus_kpi_10))\n",
    "]\n",
    "\n",
    "df_customers_summary = pd.DataFrame(customer_summary, columns=[\"KPI_NAME\", \"VALUE\"])\n",
    "df_customers_summary.to_csv(\"/Users/mac/Desktop/Banking_project/kpi_exports/customers_summary_kpis.csv\", index=False)\n"
   ]
  },
  {
   "cell_type": "markdown",
   "id": "c6a39ee2-5369-4b2c-a7d4-16c85801fc4f",
   "metadata": {},
   "source": [
    "###  Export customer  KPIs to CSV 2,3,4,8,9 \n"
   ]
  },
  {
   "cell_type": "code",
   "execution_count": 93,
   "id": "23c185d0-2556-4e43-a547-b719650f65bb",
   "metadata": {},
   "outputs": [],
   "source": [
    "cus_kpi_2.to_csv(\"/Users/mac/Desktop/Banking_project/kpi_exports/customers_marital_status_distribution.csv\", index=False)\n",
    "\n",
    "cus_kpi_3.to_csv(\"/Users/mac/Desktop/Banking_project/kpi_exports/customers_top5_jobs.csv\", index=False)\n",
    "\n",
    "cus_kpi_4.to_csv(\"/Users/mac/Desktop/Banking_project/kpi_exports/customers_by_city.csv\", index=False)\n",
    "\n",
    "cus_kpi_8.to_csv(\"/Users/mac/Desktop/Banking_project/kpi_exports/customers_avg_loan_by_age_group.csv\", index=False)\n",
    "\n",
    "cus_kpi_9.to_csv(\"/Users/mac/Desktop/Banking_project/kpi_exports/customers_city_with_max_default_loans.csv\", index=False)\n"
   ]
  },
  {
   "cell_type": "markdown",
   "id": "73edaaa7-52cd-4e86-ba58-2738638a687b",
   "metadata": {},
   "source": [
    "# Loans Analysis with 8 KPI's "
   ]
  },
  {
   "cell_type": "markdown",
   "id": "e67e456b-73da-438f-96d8-284245d5cfac",
   "metadata": {},
   "source": [
    "###  Total number of loans\n"
   ]
  },
  {
   "cell_type": "code",
   "execution_count": 94,
   "id": "a79e06d2-aa67-4426-841a-bdc701a30ece",
   "metadata": {},
   "outputs": [],
   "source": [
    "loa_kpi_1 = con.execute(\"\"\" \n",
    "select count(distinct loan_id) as NO_OF_LOANS from loans\n",
    "\"\"\").df()"
   ]
  },
  {
   "cell_type": "markdown",
   "id": "0000d985-063f-44a7-9bf1-3b6c1964f55a",
   "metadata": {},
   "source": [
    "###  Number of defaulted loans per 1000 loans\n"
   ]
  },
  {
   "cell_type": "code",
   "execution_count": 95,
   "id": "b5fefff9-7f9b-4281-a7c4-c2972b3b4d4c",
   "metadata": {},
   "outputs": [],
   "source": [
    "loa_kpi_2 = con.execute(\"\"\" \n",
    "select round( count(distinct loan_id) / (select count(distinct loan_id) from loans) * 1000 ,2) \n",
    "as Ratio_Def_Loans from loans where loan_status = 'Defaulted' \n",
    "\"\"\").df() "
   ]
  },
  {
   "cell_type": "markdown",
   "id": "8aa6d1e2-dac6-4447-a225-6fe87e738e61",
   "metadata": {},
   "source": [
    "###  Average loan amount (rounded to 2 decimals)\n"
   ]
  },
  {
   "cell_type": "code",
   "execution_count": 96,
   "id": "f3728b16-91c4-426a-9f87-bccb9e4326c4",
   "metadata": {},
   "outputs": [],
   "source": [
    "loa_kpi_3 = con.execute(\"\"\" \n",
    "select round(avg(loan_amount),2) from loans  \n",
    "\"\"\").df() "
   ]
  },
  {
   "cell_type": "markdown",
   "id": "060bde56-eace-45c7-94c9-4478ff800301",
   "metadata": {},
   "source": [
    "###  Number of loans by loan type\n"
   ]
  },
  {
   "cell_type": "code",
   "execution_count": 97,
   "id": "767e76ad-3b5a-4049-9b15-5247aa9fb59e",
   "metadata": {},
   "outputs": [],
   "source": [
    "loa_kpi_4 = con.execute(\"\"\" \n",
    "select loan_type , count(loan_id) from loans group by loan_type order by count(loan_id) desc\n",
    "\"\"\").df()"
   ]
  },
  {
   "cell_type": "markdown",
   "id": "2025de27-81cf-4a69-8e06-fb7f38e80ab1",
   "metadata": {},
   "source": [
    "###  Number of loans by loan status\n"
   ]
  },
  {
   "cell_type": "code",
   "execution_count": 98,
   "id": "ce2cb049-691c-41d0-9bff-a1c4bfc07cef",
   "metadata": {},
   "outputs": [],
   "source": [
    "loa_kpi_5 = con.execute(\"\"\" \n",
    "select loan_status , count(loan_id) from loans group by loan_status order by count(loan_id) desc\n",
    "\"\"\").df()"
   ]
  },
  {
   "cell_type": "markdown",
   "id": "c8c31e1c-a2a1-495c-bffe-790464942852",
   "metadata": {},
   "source": [
    "###  Number of customers with loans by city\n"
   ]
  },
  {
   "cell_type": "code",
   "execution_count": 99,
   "id": "ea5668aa-d67d-4c75-b4e1-d0df23d44bee",
   "metadata": {},
   "outputs": [],
   "source": [
    "loa_kpi_6 = con.execute(\"\"\" \n",
    "select c.city , count(l.customer_id) as NO_OF_CUSTOMERS \n",
    "from customers as c join loans as l \n",
    "on c.customer_id = l.customer_id \n",
    "group by c.city \n",
    "order by count(l.customer_id) desc\n",
    "\"\"\").df() "
   ]
  },
  {
   "cell_type": "markdown",
   "id": "3f8599b7-be7a-468a-88c2-2d7091388e69",
   "metadata": {},
   "source": [
    "###  Customers with more than one loan\n"
   ]
  },
  {
   "cell_type": "code",
   "execution_count": 100,
   "id": "4ab1f7f5-a40e-4e43-8450-4a16aec66d62",
   "metadata": {},
   "outputs": [],
   "source": [
    "loa_kpi_7 = con.execute(\"\"\"\n",
    "select  c.customer_id,c.name , count(l.loan_id) as NO_OF_LOANS from customers as c join loans as l \n",
    "on c.customer_id = l.customer_id \n",
    "group by c.name , c.customer_id\n",
    "having count(l.loan_id) > 1 \n",
    " \"\"\").df()"
   ]
  },
  {
   "cell_type": "markdown",
   "id": "1157a354-ec4f-421a-93f5-7929dc1d5814",
   "metadata": {},
   "source": [
    "###  Number of defaulted loans by loan type\n"
   ]
  },
  {
   "cell_type": "code",
   "execution_count": 101,
   "id": "235fcef6-2f24-4deb-afb9-f41898dec95e",
   "metadata": {},
   "outputs": [],
   "source": [
    "loa_kpi_8 = con.execute(\"\"\"\n",
    "SELECT \n",
    "    loan_type,\n",
    "    COUNT(*) AS num_defaulted_loans\n",
    "FROM loans\n",
    "WHERE loan_status = 'Defaulted'\n",
    "GROUP BY loan_type\n",
    "ORDER BY COUNT(*) DESC\n",
    "\"\"\").df()\n"
   ]
  },
  {
   "cell_type": "markdown",
   "id": "0585c88a-5229-4924-8c5f-fe4da8acc754",
   "metadata": {},
   "source": [
    "###  Export loan summary KPIs to CSV 1,2,3\n"
   ]
  },
  {
   "cell_type": "code",
   "execution_count": 102,
   "id": "7594c438-9067-45e9-aacc-29d7dfbea6a8",
   "metadata": {},
   "outputs": [],
   "source": [
    "def extract_value(kpi):\n",
    "    if hasattr(kpi, 'iloc'):\n",
    "        return kpi.iloc[0, 0]\n",
    "    return kpi\n",
    "\n",
    "loans_summary = [\n",
    "    (\"NO_OF_LOANS\", extract_value(loa_kpi_1)),\n",
    "    (\"RATIO_DEF_LOANS\", extract_value(loa_kpi_2)),\n",
    "    (\"AVG_LOAN_AMOUNT\", extract_value(loa_kpi_3))\n",
    "]\n",
    "\n",
    "df_loans_summary = pd.DataFrame(loans_summary, columns=[\"KPI_NAME\", \"VALUE\"])\n",
    "df_loans_summary.to_csv(\"/Users/mac/Desktop/Banking_project/kpi_exports/loans_summary_kpis.csv\", index=False)\n"
   ]
  },
  {
   "cell_type": "markdown",
   "id": "e6c92e2b-3d1e-4395-a83c-502b95580663",
   "metadata": {},
   "source": [
    "###  Export loan  KPIs to CSV 4,5,6,7,8\n"
   ]
  },
  {
   "cell_type": "code",
   "execution_count": 103,
   "id": "c2c4fb61-8e0f-4693-a82d-9abb4d9f4fa4",
   "metadata": {},
   "outputs": [],
   "source": [
    "loa_kpi_4.to_csv(\"/Users/mac/Desktop/Banking_project/kpi_exports/loans_by_type.csv\", index=False)\n",
    "\n",
    "loa_kpi_5.to_csv(\"/Users/mac/Desktop/Banking_project/kpi_exports/loans_by_status.csv\", index=False)\n",
    "\n",
    "loa_kpi_6.to_csv(\"/Users/mac/Desktop/Banking_project/kpi_exports/defaulted_customers_summary.csv\", index=False)\n",
    "\n",
    "loa_kpi_7.to_csv(\"/Users/mac/Desktop/Banking_project/kpi_exports/customers_with_multiple_loans.csv\", index=False)\n",
    "\n",
    "loa_kpi_8.to_csv(\"/Users/mac/Desktop/Banking_project/kpi_exports/loans_defaulted_by_type.csv\", index=False)\n"
   ]
  },
  {
   "cell_type": "markdown",
   "id": "ecda75a6-f715-479c-8c57-f9fd47b5ff06",
   "metadata": {},
   "source": [
    "#  Complaints & Customer Feedback Analysis 8 KPI's"
   ]
  },
  {
   "cell_type": "markdown",
   "id": "76e00a00-f294-44d6-b727-ac9809b44572",
   "metadata": {},
   "source": [
    "###  Total number of complaints\n"
   ]
  },
  {
   "cell_type": "code",
   "execution_count": 104,
   "id": "04cd5d1b-0acd-4b50-900b-aa325ba512b9",
   "metadata": {},
   "outputs": [],
   "source": [
    "com_kpi_1 = con.execute(\"\"\"\n",
    "select count(complaint_id) as NO_OF_COMPLAINTS from complaints\n",
    "\"\"\").df()"
   ]
  },
  {
   "cell_type": "markdown",
   "id": "e037c7aa-847a-4093-9495-5dab167548bc",
   "metadata": {},
   "source": [
    "###  Percentage of customers who submitted complaints\n"
   ]
  },
  {
   "cell_type": "code",
   "execution_count": 105,
   "id": "70d36dcb-4b72-437d-8d1d-902398ad5610",
   "metadata": {},
   "outputs": [],
   "source": [
    "com_kpi_2 = con.execute(\"\"\" \n",
    "select round(count(distinct customer_id ) / (select count(customer_id) from customers ) * 100 ,2) \n",
    "as COMP_CUS_RATIO from complaints\n",
    "\"\"\").df()"
   ]
  },
  {
   "cell_type": "markdown",
   "id": "5b98170b-0450-49e5-a4f5-c0dfc435dcaa",
   "metadata": {},
   "source": [
    "###  Number of complaints by status\n"
   ]
  },
  {
   "cell_type": "code",
   "execution_count": 106,
   "id": "7c48b193-eafb-4ad1-96a9-900c3fd66f96",
   "metadata": {},
   "outputs": [],
   "source": [
    "com_kpi_3 = con.execute(\"\"\"\n",
    "select status , count(complaint_id) as NO_OF_COMPLAINTS\n",
    "from complaints \n",
    "group by status \n",
    "order by count(complaint_id) desc\n",
    "\"\"\").df()"
   ]
  },
  {
   "cell_type": "markdown",
   "id": "ff02860f-b66f-4104-968f-f2b092bf6872",
   "metadata": {},
   "source": [
    "###  Number of complaints by city\n"
   ]
  },
  {
   "cell_type": "code",
   "execution_count": 107,
   "id": "f4af5503-d229-4d8d-8147-f2e52879ee8e",
   "metadata": {},
   "outputs": [],
   "source": [
    "com_kpi_4 = con.execute(\"\"\"\n",
    "select c.city , count(com.complaint_id) as NO_OF_COMPLAINTS \n",
    "from customers as c join complaints as com \n",
    "on c.customer_id = com.customer_id \n",
    "group by c.city \n",
    "order by count(com.complaint_id) desc \n",
    "\"\"\").df()"
   ]
  },
  {
   "cell_type": "markdown",
   "id": "aecca06d-b582-44ea-b86c-2bae29b8c076",
   "metadata": {},
   "source": [
    "###  Number of complaints by customer job\n"
   ]
  },
  {
   "cell_type": "code",
   "execution_count": 108,
   "id": "5bcc3b64-b4c9-410f-b18e-147682276632",
   "metadata": {},
   "outputs": [],
   "source": [
    "com_kpi_5 = con.execute(\"\"\"\n",
    "select c.job , count(com.complaint_id) as NO_OF_COMPLAINTS \n",
    "from customers as c join complaints as com \n",
    "on c.customer_id = com.customer_id\n",
    "group by c.job \n",
    "order by count(com.complaint_id) \n",
    "\"\"\").df()"
   ]
  },
  {
   "cell_type": "markdown",
   "id": "b61067e1-d76b-48b1-a0bc-04448f317997",
   "metadata": {},
   "source": [
    "###  Percentage of complaints from customers with loans\n"
   ]
  },
  {
   "cell_type": "code",
   "execution_count": 109,
   "id": "b254f414-2cb9-47ed-bf01-002202f3fb6c",
   "metadata": {},
   "outputs": [],
   "source": [
    " com_kpi_6 = con.execute(\"\"\"\n",
    "SELECT \n",
    "    ROUND(\n",
    "        (\n",
    "            SELECT COUNT(DISTINCT cmp.customer_id)\n",
    "            FROM complaints cmp\n",
    "            JOIN loans l ON cmp.customer_id = l.customer_id\n",
    "        ) * 100.0\n",
    "        /\n",
    "        (SELECT COUNT(DISTINCT customer_id) FROM complaints),\n",
    "    2\n",
    "    ) AS complaint_from_loan_customers_ratio\n",
    "\"\"\").df()"
   ]
  },
  {
   "cell_type": "markdown",
   "id": "ece95b26-8727-429d-8013-056c814aeeff",
   "metadata": {},
   "source": [
    "###  Number of customers with multiple complaints\n"
   ]
  },
  {
   "cell_type": "code",
   "execution_count": 110,
   "id": "aa153180-2ed7-46f7-8ba3-f9ab861487dd",
   "metadata": {},
   "outputs": [],
   "source": [
    "com_kpi_7 = con.execute(\"\"\"\n",
    "SELECT COUNT(*) AS multi_complaint_customers\n",
    "FROM (\n",
    "    SELECT customer_id\n",
    "    FROM complaints\n",
    "    GROUP BY customer_id\n",
    "    HAVING COUNT(complaint_id) > 1\n",
    ") AS sub\n",
    "\"\"\").df()\n"
   ]
  },
  {
   "cell_type": "markdown",
   "id": "5ac5bac4-b90f-48cb-ad72-078f0b39364f",
   "metadata": {},
   "source": [
    "###  Monthly complaint count by status\n"
   ]
  },
  {
   "cell_type": "code",
   "execution_count": 111,
   "id": "214de062-9287-4c53-b6b6-6a00aa666c22",
   "metadata": {},
   "outputs": [],
   "source": [
    "com_kpi_8 = con.execute(\"\"\"\n",
    "SELECT \n",
    "    STRFTIME(complaint_date, '%Y-%m') AS month,\n",
    "    status,\n",
    "    COUNT(*) AS no_of_complaints\n",
    "FROM complaints\n",
    "GROUP BY month, status\n",
    "ORDER BY month\n",
    "\"\"\").df()\n"
   ]
  },
  {
   "cell_type": "markdown",
   "id": "55f3a515-9570-4738-a61c-1559995a263b",
   "metadata": {},
   "source": [
    "###  Export complaint KPIs (1,2,6,7)\n"
   ]
  },
  {
   "cell_type": "code",
   "execution_count": 112,
   "id": "7d4a0338-4faa-4d81-b13f-d8df53c2c35b",
   "metadata": {},
   "outputs": [],
   "source": [
    "def extract_value(kpi):\n",
    "    return kpi.iloc[0, 0] if hasattr(kpi, 'iloc') else kpi\n",
    "\n",
    "\n",
    "complaints_summary = [\n",
    "    (\"NO_OF_COMPLAINTS\", extract_value(com_kpi_1)),\n",
    "    (\"COMPLAINTS_CUSTOMERS_RATIO\", extract_value(com_kpi_2)),\n",
    "    (\"LOAN_CUSTOMERS_COMPLAINT_RATIO\", extract_value(com_kpi_6)),\n",
    "    (\"MULTI_COMPLAINT_CUSTOMERS\", extract_value(com_kpi_7)),\n",
    "]\n",
    "df_complaints_summary = pd.DataFrame(complaints_summary, columns=[\"KPI_NAME\", \"VALUE\"])\n",
    "df_complaints_summary.to_csv(\"/Users/mac/Desktop/Banking_project/kpi_exports/complaints_summary_kpis.csv\", index=False)\n"
   ]
  },
  {
   "cell_type": "markdown",
   "id": "42e8ceb7-a69c-4a4b-8cdf-bf19b0d1264a",
   "metadata": {},
   "source": [
    "###  Export complaint KPIs (3,4,5,8)\n"
   ]
  },
  {
   "cell_type": "code",
   "execution_count": 113,
   "id": "366bcf9c-3d13-40a2-ba96-25ee34ff27a4",
   "metadata": {},
   "outputs": [],
   "source": [
    "com_kpi_3.to_csv(\"/Users/mac/Desktop/Banking_project/kpi_exports/complaints_by_status.csv\", index=False)\n",
    "com_kpi_4.to_csv(\"/Users/mac/Desktop/Banking_project/kpi_exports/complaints_by_city.csv\", index=False)\n",
    "com_kpi_5.to_csv(\"/Users/mac/Desktop/Banking_project/kpi_exports/complaints_by_job.csv\", index=False)\n",
    "com_kpi_8.to_csv(\"/Users/mac/Desktop/Banking_project/kpi_exports/complaints_trend_by_month.csv\", index=False)"
   ]
  },
  {
   "cell_type": "markdown",
   "id": "58bc6e72-7210-4db0-b808-fbb531966dee",
   "metadata": {},
   "source": [
    "# Account & Transaction Insights"
   ]
  },
  {
   "cell_type": "markdown",
   "id": "a929cbfc-dfa3-4121-a7bc-c484dba06140",
   "metadata": {},
   "source": [
    "###  Total number of unique bank accounts\n"
   ]
  },
  {
   "cell_type": "code",
   "execution_count": 114,
   "id": "0ae716fe-0a1a-4cb4-9689-f82928c4b930",
   "metadata": {},
   "outputs": [],
   "source": [
    "acc_kpi_1 = con.execute(\"\"\"\n",
    "SELECT COUNT(DISTINCT account_id) AS no_of_accounts\n",
    "FROM accounts\n",
    "\"\"\").df()\n"
   ]
  },
  {
   "cell_type": "markdown",
   "id": "99909d70-6033-4c90-81d3-e7dbfe2b2b1b",
   "metadata": {},
   "source": [
    "###  Number of accounts by account type\n"
   ]
  },
  {
   "cell_type": "code",
   "execution_count": 115,
   "id": "c7c4fa72-68ff-4d39-b1ce-1a9ca35da0d9",
   "metadata": {},
   "outputs": [],
   "source": [
    "acc_kpi_2 = con.execute(\"\"\"\n",
    "SELECT account_type, COUNT(*) AS no_of_accounts\n",
    "FROM accounts\n",
    "GROUP BY account_type\n",
    "ORDER BY COUNT(*) DESC\n",
    "\"\"\").df()\n"
   ]
  },
  {
   "cell_type": "markdown",
   "id": "2e7ee749-ca07-47ef-a7d4-e91252285fb3",
   "metadata": {},
   "source": [
    "###  Average account age in years\n"
   ]
  },
  {
   "cell_type": "code",
   "execution_count": 116,
   "id": "b2d4f664-469a-46ae-8f97-b4bc0c20a691",
   "metadata": {},
   "outputs": [],
   "source": [
    "acc_kpi_3 = con.execute(\"\"\"\n",
    "SELECT \n",
    "  ROUND(AVG(DATE_DIFF('day', open_date, CURRENT_DATE)) / 365.25, 1) AS avg_account_age_years\n",
    "FROM accounts\n",
    "\"\"\").df()"
   ]
  },
  {
   "cell_type": "markdown",
   "id": "ef71510a-552b-4360-8a29-03f458e8334e",
   "metadata": {},
   "source": [
    "###  Total number of transactions\n"
   ]
  },
  {
   "cell_type": "code",
   "execution_count": 117,
   "id": "ab3676e4-2eec-4811-b720-ba728ff8c286",
   "metadata": {},
   "outputs": [],
   "source": [
    "acc_kpi_4 = con.execute(\"\"\"\n",
    "SELECT COUNT(transaction_id) AS no_of_transactions\n",
    "FROM transactions\n",
    "\"\"\").df()\n"
   ]
  },
  {
   "cell_type": "markdown",
   "id": "9dda2bae-a0ad-4eba-9d15-1d61537f194a",
   "metadata": {},
   "source": [
    "###  Average transaction amount (rounded to 2 decimals)\n"
   ]
  },
  {
   "cell_type": "code",
   "execution_count": 118,
   "id": "07323aff-cae1-45c4-9067-9b1e2a13e8c1",
   "metadata": {},
   "outputs": [],
   "source": [
    "acc_kpi_5 = con.execute(\"\"\"\n",
    "SELECT ROUND(AVG(amount), 2) AS avg_transaction_amount\n",
    "FROM transactions\n",
    "\"\"\").df()\n"
   ]
  },
  {
   "cell_type": "markdown",
   "id": "b92a3656-ad53-4684-b32e-13bca92d5585",
   "metadata": {},
   "source": [
    "###  Number of transactions by transaction type\n"
   ]
  },
  {
   "cell_type": "code",
   "execution_count": 119,
   "id": "264decab-a95c-4d65-8e3c-5aa0af421f3a",
   "metadata": {},
   "outputs": [],
   "source": [
    "acc_kpi_6 = con.execute(\"\"\"\n",
    "SELECT transaction_type, COUNT(*) AS no_of_transactions\n",
    "FROM transactions\n",
    "GROUP BY transaction_type\n",
    "ORDER BY COUNT(*) DESC\n",
    "\"\"\").df()\n"
   ]
  },
  {
   "cell_type": "markdown",
   "id": "ab719e44-aee1-43b9-9160-9ed0ca31c426",
   "metadata": {},
   "source": [
    "###  Top 5 cities by number of transactions\n"
   ]
  },
  {
   "cell_type": "code",
   "execution_count": 120,
   "id": "f011fe31-c6fd-4b1e-b76d-a7f132286971",
   "metadata": {},
   "outputs": [],
   "source": [
    "acc_kpi_7 = con.execute(\"\"\"\n",
    "SELECT c.city, COUNT(t.transaction_id) AS no_of_transactions\n",
    "FROM customers c\n",
    "JOIN accounts a ON c.customer_id = a.customer_id\n",
    "JOIN transactions t ON a.account_id = t.account_id\n",
    "GROUP BY c.city\n",
    "ORDER BY COUNT(t.transaction_id) DESC\n",
    "LIMIT 5\n",
    "\"\"\").df()\n"
   ]
  },
  {
   "cell_type": "markdown",
   "id": "31cf8b01-b1be-447c-aef5-878c113da581",
   "metadata": {},
   "source": [
    "###  Customers with more than 20 transactions\n"
   ]
  },
  {
   "cell_type": "code",
   "execution_count": 121,
   "id": "521426b3-b470-4cf5-9204-342837b4737d",
   "metadata": {},
   "outputs": [],
   "source": [
    "acc_kpi_8 = con.execute(\"\"\"\n",
    "SELECT c.customer_id, c.name, COUNT(t.transaction_id) AS total_transactions\n",
    "FROM customers c\n",
    "JOIN accounts a ON c.customer_id = a.customer_id\n",
    "JOIN transactions t ON a.account_id = t.account_id\n",
    "GROUP BY c.customer_id, c.name\n",
    "HAVING COUNT(t.transaction_id) > 20\n",
    "ORDER BY total_transactions DESC\n",
    "\"\"\").df()\n"
   ]
  },
  {
   "cell_type": "markdown",
   "id": "bc48417a-a2f2-4bf3-aa14-9c3a9255a2d6",
   "metadata": {},
   "source": [
    "###  Top 5 customers by total transaction amount\n"
   ]
  },
  {
   "cell_type": "code",
   "execution_count": 122,
   "id": "1f22adcf-a7d6-444a-a5a3-0c3e1a254923",
   "metadata": {},
   "outputs": [],
   "source": [
    "acc_kpi_9 = con.execute(\"\"\"\n",
    "SELECT c.customer_id, c.name, ROUND(SUM(t.amount), 2) AS total_spent\n",
    "FROM customers c\n",
    "JOIN accounts a ON c.customer_id = a.customer_id\n",
    "JOIN transactions t ON a.account_id = t.account_id\n",
    "GROUP BY c.customer_id, c.name\n",
    "ORDER BY total_spent DESC\n",
    "LIMIT 5\n",
    "\"\"\").df()\n"
   ]
  },
  {
   "cell_type": "markdown",
   "id": "71399394-50eb-4a96-9492-cc5a3f944bc2",
   "metadata": {},
   "source": [
    "###  Most frequent transaction type\n"
   ]
  },
  {
   "cell_type": "code",
   "execution_count": 123,
   "id": "144f798e-738b-4428-b6ab-ff25850e7a5c",
   "metadata": {},
   "outputs": [],
   "source": [
    "acc_kpi_10 = con.execute(\"\"\"\n",
    "SELECT transaction_type, COUNT(*) AS no_of_transactions\n",
    "FROM transactions\n",
    "GROUP BY transaction_type\n",
    "ORDER BY COUNT(*) DESC\n",
    "LIMIT 1\n",
    "\"\"\").df()\n"
   ]
  },
  {
   "cell_type": "markdown",
   "id": "835b890e-a20e-4922-8e8b-edabc5fe6664",
   "metadata": {},
   "source": [
    "###  Export account and transaction summary KPIs\n"
   ]
  },
  {
   "cell_type": "code",
   "execution_count": 124,
   "id": "7a90424b-1fa6-43bb-aab1-52d0bd4e13b6",
   "metadata": {},
   "outputs": [],
   "source": [
    "acc_summary = [\n",
    "    (\"NO_OF_ACCOUNTS\", acc_kpi_1.iloc[0, 0]),\n",
    "    (\"AVG_ACCOUNT_AGE_YEARS\", acc_kpi_3.iloc[0, 0]),\n",
    "    (\"NO_OF_TRANSACTIONS\", acc_kpi_4.iloc[0, 0]),\n",
    "    (\"AVG_TRANSACTION_AMOUNT\", acc_kpi_5.iloc[0, 0]),\n",
    "    (\"MOST_COMMON_TRANSACTION_TYPE\", acc_kpi_10.iloc[0, 0])\n",
    "]\n",
    "\n",
    "df_acc_summary = pd.DataFrame(acc_summary, columns=[\"KPI_NAME\", \"VALUE\"])\n",
    "df_acc_summary.to_csv(\"/Users/mac/Desktop/Banking_project/kpi_exports/accounts_summary_kpis.csv\", index=False)\n"
   ]
  },
  {
   "cell_type": "markdown",
   "id": "8050333f-75ac-4c42-9d60-c2ac7b9a0be3",
   "metadata": {},
   "source": [
    "###  Export account and transactions (2,6,7,8,9)\n"
   ]
  },
  {
   "cell_type": "code",
   "execution_count": 125,
   "id": "105f86c6-9fcc-4bfa-ae4b-79beb37070f2",
   "metadata": {},
   "outputs": [],
   "source": [
    "\n",
    "acc_kpi_2.to_csv(\"/Users/mac/Desktop/Banking_project/kpi_exports/accounts_by_type.csv\", index=False)\n",
    "acc_kpi_6.to_csv(\"/Users/mac/Desktop/Banking_project/kpi_exports/transactions_by_type.csv\", index=False)\n",
    "acc_kpi_7.to_csv(\"/Users/mac/Desktop/Banking_project/kpi_exports/transactions_by_city.csv\", index=False)\n",
    "acc_kpi_8.to_csv(\"/Users/mac/Desktop/Banking_project/kpi_exports/customers_with_high_transaction_volume.csv\", index=False)\n",
    "acc_kpi_9.to_csv(\"/Users/mac/Desktop/Banking_project/kpi_exports/top_spending_customers.csv\", index=False)\n"
   ]
  },
  {
   "cell_type": "code",
   "execution_count": null,
   "id": "37944efa-50c9-46ac-bb3c-ee6b5b5eb3eb",
   "metadata": {},
   "outputs": [],
   "source": []
  },
  {
   "cell_type": "markdown",
   "id": "57bad982-15af-46ed-8ef4-282a2d2f6a4a",
   "metadata": {},
   "source": [
    "# Geo Analysis "
   ]
  },
  {
   "cell_type": "markdown",
   "id": "604fa105-ea4a-4207-932f-8fde6d6ba4ec",
   "metadata": {},
   "source": [
    "###  Number of customers by city\n"
   ]
  },
  {
   "cell_type": "code",
   "execution_count": 126,
   "id": "967b7894-ce7b-4277-8f72-7d821e9e13b3",
   "metadata": {},
   "outputs": [],
   "source": [
    "geo_kpi_1 = con.execute(\"\"\"\n",
    "SELECT city, COUNT(*) AS no_of_customers\n",
    "FROM customers\n",
    "GROUP BY city\n",
    "ORDER BY COUNT(*) DESC\n",
    "\"\"\").df()\n"
   ]
  },
  {
   "cell_type": "markdown",
   "id": "6ae7a794-d12f-4ed5-8109-148e25a6e98c",
   "metadata": {},
   "source": [
    "###  Number of loans by city\n"
   ]
  },
  {
   "cell_type": "code",
   "execution_count": 127,
   "id": "30f9a260-ddb0-46bf-b9c6-2ec02d34a230",
   "metadata": {},
   "outputs": [],
   "source": [
    "geo_kpi_2 = con.execute(\"\"\"\n",
    "SELECT c.city, COUNT(l.loan_id) AS no_of_loans\n",
    "FROM customers c\n",
    "JOIN loans l ON c.customer_id = l.customer_id\n",
    "GROUP BY c.city\n",
    "ORDER BY COUNT(l.loan_id) DESC\n",
    "\"\"\").df()\n"
   ]
  },
  {
   "cell_type": "markdown",
   "id": "3d43dde8-a472-4174-9649-7a543bac2779",
   "metadata": {},
   "source": [
    "###  Loan default rate by city (in %)\n"
   ]
  },
  {
   "cell_type": "code",
   "execution_count": 128,
   "id": "a5214d72-9bd6-42af-afb7-960c94383864",
   "metadata": {},
   "outputs": [],
   "source": [
    "geo_kpi_3 = con.execute(\"\"\"\n",
    "SELECT \n",
    "    c.city,\n",
    "    ROUND(\n",
    "        SUM(CASE WHEN l.loan_status = 'Defaulted' THEN 1 ELSE 0 END) * 100.0 / COUNT(*), \n",
    "        2\n",
    "    ) AS default_rate\n",
    "FROM customers c\n",
    "JOIN loans l ON c.customer_id = l.customer_id\n",
    "GROUP BY c.city\n",
    "ORDER BY default_rate DESC\n",
    "\"\"\").df()\n"
   ]
  },
  {
   "cell_type": "markdown",
   "id": "641ab476-d5fe-4605-b24b-69a488ae63d7",
   "metadata": {},
   "source": [
    "###  Number of complaints by city\n"
   ]
  },
  {
   "cell_type": "code",
   "execution_count": 129,
   "id": "113a56b7-0b89-45bc-97f9-dc5ad450868d",
   "metadata": {},
   "outputs": [],
   "source": [
    "geo_kpi_4 = con.execute(\"\"\"\n",
    "SELECT c.city, COUNT(cmp.complaint_id) AS no_of_complaints\n",
    "FROM customers c\n",
    "JOIN complaints cmp ON c.customer_id = cmp.customer_id\n",
    "GROUP BY c.city\n",
    "ORDER BY COUNT(cmp.complaint_id) DESC\n",
    "\"\"\").df()\n"
   ]
  },
  {
   "cell_type": "markdown",
   "id": "c97ea99c-49e8-40af-bc25-2cb1059a9b25",
   "metadata": {},
   "source": [
    "###  Export geographic KPIs (customers, loans, defaults, complaints by city)\n"
   ]
  },
  {
   "cell_type": "code",
   "execution_count": 130,
   "id": "68614126-1c48-45ea-93c7-d02f281355a3",
   "metadata": {},
   "outputs": [],
   "source": [
    "\n",
    "geo_kpi_1.to_csv(\"/Users/mac/Desktop/Banking_project/kpi_exports/geo_customers_by_city.csv\", index=False)\n",
    "geo_kpi_2.to_csv(\"/Users/mac/Desktop/Banking_project/kpi_exports/geo_loans_by_city.csv\", index=False)\n",
    "geo_kpi_3.to_csv(\"/Users/mac/Desktop/Banking_project/kpi_exports/geo_default_rate_by_city.csv\", index=False)\n",
    "geo_kpi_4.to_csv(\"/Users/mac/Desktop/Banking_project/kpi_exports/geo_complaints_by_city.csv\", index=False)\n"
   ]
  },
  {
   "cell_type": "markdown",
   "id": "64d770e7-1840-4867-9e01-bcfb9bd527fe",
   "metadata": {},
   "source": [
    "# Trend Analysis"
   ]
  },
  {
   "cell_type": "markdown",
   "id": "9373a473-2a8c-4afe-82d8-a91af4bc9409",
   "metadata": {},
   "source": [
    "### Monthly trend of transaction count and total amount\n"
   ]
  },
  {
   "cell_type": "code",
   "execution_count": 131,
   "id": "89cb0df9-34e6-489b-98a8-6d7bf4e9a1c0",
   "metadata": {},
   "outputs": [],
   "source": [
    "trend_kpi_1 = con.execute(\"\"\"\n",
    "SELECT \n",
    "    STRFTIME(transaction_date, '%Y-%m') AS month,\n",
    "    COUNT(*) AS no_of_transactions,\n",
    "    ROUND(SUM(amount), 2) AS total_transaction_amount\n",
    "FROM transactions\n",
    "GROUP BY month\n",
    "ORDER BY month\n",
    "\"\"\").df()"
   ]
  },
  {
   "cell_type": "markdown",
   "id": "8770d0c0-56b5-47e9-860a-356cd99e5e28",
   "metadata": {},
   "source": [
    "###  Monthly complaint trend by status\n"
   ]
  },
  {
   "cell_type": "code",
   "execution_count": 132,
   "id": "68b4b657-fac4-4600-aa8e-ae69cbe73dea",
   "metadata": {},
   "outputs": [],
   "source": [
    "trend_kpi_2 = con.execute(\"\"\"\n",
    "SELECT \n",
    "    STRFTIME(complaint_date, '%Y-%m') AS month,\n",
    "    status,\n",
    "    COUNT(*) AS no_of_complaints\n",
    "FROM complaints\n",
    "GROUP BY month, status\n",
    "ORDER BY month\n",
    "\"\"\").df()\n"
   ]
  },
  {
   "cell_type": "markdown",
   "id": "c8dc414b-1ab9-4fa4-8de6-4baa9e25320f",
   "metadata": {},
   "source": [
    "###  Export monthly trend KPIs (loans and complaints by status)\n"
   ]
  },
  {
   "cell_type": "code",
   "execution_count": 133,
   "id": "e2f2af93-8446-46ed-b9ef-9e3679670037",
   "metadata": {},
   "outputs": [],
   "source": [
    "trend_kpi_1.to_csv(\"/Users/mac/Desktop/Banking_project/kpi_exports/trend_monthly_transactions.csv\", index=False)\n",
    "trend_kpi_2.to_csv(\"/Users/mac/Desktop/Banking_project/kpi_exports/trend_monthly_complaints_by_status.csv\", index=False)"
   ]
  },
  {
   "cell_type": "code",
   "execution_count": null,
   "id": "f8b499bb-b47f-483b-821b-f2269da34267",
   "metadata": {},
   "outputs": [],
   "source": []
  },
  {
   "cell_type": "code",
   "execution_count": null,
   "id": "db2260b6-8246-4a9f-9325-adc403b07357",
   "metadata": {},
   "outputs": [],
   "source": []
  },
  {
   "cell_type": "code",
   "execution_count": null,
   "id": "0dca3133-9cc0-4eda-a431-14a033590a04",
   "metadata": {},
   "outputs": [],
   "source": []
  },
  {
   "cell_type": "code",
   "execution_count": null,
   "id": "b988eb79-5c24-4f16-bdf6-f104bf65d339",
   "metadata": {},
   "outputs": [],
   "source": []
  },
  {
   "cell_type": "code",
   "execution_count": null,
   "id": "0c7eb997-2707-4a18-8804-4eb299bec829",
   "metadata": {},
   "outputs": [],
   "source": []
  },
  {
   "cell_type": "code",
   "execution_count": null,
   "id": "c25d56ae-e2e2-4b0e-87da-f7258fdf6181",
   "metadata": {},
   "outputs": [],
   "source": []
  },
  {
   "cell_type": "code",
   "execution_count": null,
   "id": "d61b663f-ac6c-4d36-9742-74341ede16fd",
   "metadata": {},
   "outputs": [],
   "source": []
  },
  {
   "cell_type": "code",
   "execution_count": null,
   "id": "3d20cbc2-0e32-4705-b361-9ea1bb7f676b",
   "metadata": {},
   "outputs": [],
   "source": []
  },
  {
   "cell_type": "code",
   "execution_count": null,
   "id": "a5e4913a-4255-4cca-b187-ec7048a3fe1c",
   "metadata": {},
   "outputs": [],
   "source": []
  },
  {
   "cell_type": "code",
   "execution_count": null,
   "id": "66b4ed0a-a445-4fe4-aa15-9202d316f1a4",
   "metadata": {},
   "outputs": [],
   "source": []
  },
  {
   "cell_type": "code",
   "execution_count": null,
   "id": "98288654-1aa0-4934-82a1-2a9709c454f4",
   "metadata": {},
   "outputs": [],
   "source": []
  },
  {
   "cell_type": "code",
   "execution_count": null,
   "id": "54b8b3c8-237a-426f-b54c-f7a599464a35",
   "metadata": {},
   "outputs": [],
   "source": []
  },
  {
   "cell_type": "code",
   "execution_count": null,
   "id": "513f8d73-1cae-4fa4-9dad-edd71c771cee",
   "metadata": {},
   "outputs": [],
   "source": []
  },
  {
   "cell_type": "code",
   "execution_count": null,
   "id": "3da14518-93df-4382-9511-8b80390ea5da",
   "metadata": {},
   "outputs": [],
   "source": []
  },
  {
   "cell_type": "code",
   "execution_count": null,
   "id": "a7db6725-cbd4-4e8d-96cf-a89119a38476",
   "metadata": {},
   "outputs": [],
   "source": []
  },
  {
   "cell_type": "code",
   "execution_count": null,
   "id": "0a7e6025-74e0-4273-85ed-083a54774a2c",
   "metadata": {},
   "outputs": [],
   "source": []
  },
  {
   "cell_type": "code",
   "execution_count": null,
   "id": "2ae6b468-ad9f-47dd-817a-9c78d19d6446",
   "metadata": {},
   "outputs": [],
   "source": []
  },
  {
   "cell_type": "code",
   "execution_count": null,
   "id": "a9740e97-279f-4775-8fee-79156b14d71f",
   "metadata": {},
   "outputs": [],
   "source": []
  },
  {
   "cell_type": "code",
   "execution_count": null,
   "id": "ce525fc2-3431-49c7-bb81-5c6c722e65ab",
   "metadata": {},
   "outputs": [],
   "source": []
  },
  {
   "cell_type": "code",
   "execution_count": null,
   "id": "8aef8fcb-f572-49eb-97ae-08f7b9c44676",
   "metadata": {},
   "outputs": [],
   "source": []
  },
  {
   "cell_type": "code",
   "execution_count": null,
   "id": "6651bcf9-bc53-4484-a978-402f0a754e0e",
   "metadata": {},
   "outputs": [],
   "source": []
  }
 ],
 "metadata": {
  "kernelspec": {
   "display_name": "Python [conda env:base] *",
   "language": "python",
   "name": "conda-base-py"
  },
  "language_info": {
   "codemirror_mode": {
    "name": "ipython",
    "version": 3
   },
   "file_extension": ".py",
   "mimetype": "text/x-python",
   "name": "python",
   "nbconvert_exporter": "python",
   "pygments_lexer": "ipython3",
   "version": "3.12.7"
  }
 },
 "nbformat": 4,
 "nbformat_minor": 5
}
