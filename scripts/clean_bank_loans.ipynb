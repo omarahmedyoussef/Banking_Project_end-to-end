{
 "cells": [
  {
   "cell_type": "code",
   "execution_count": 6,
   "id": "44bda417-b582-4a46-b16f-33fd81c1e18d",
   "metadata": {},
   "outputs": [
    {
     "name": "stdout",
     "output_type": "stream",
     "text": [
      "Transactions cleaned and saved successfully\n"
     ]
    }
   ],
   "source": [
    "import pandas as pd \n",
    "bank_accounts = pd.read_csv(\"/Users/mac/Desktop/Banking_project/raw_data_dirty/bank_accounts_dirty.csv\") \n",
    "bank_accounts[\"open_date\"] = pd.to_datetime(bank_accounts[\"open_date\"]) #1\n",
    "bank_accounts[\"account_type\"]= bank_accounts[\"account_type\"].str.lower() #2\n",
    "bank_accounts[\"account_type\"]=bank_accounts[\"account_type\"].fillna(\"saving\") #3 \n",
    "bank_accounts.to_csv(\"/Users/mac/Desktop/Banking_project/raw_data_clean/bank_accounts_cleaned.csv\",index=False)\n",
    "print(\"Transactions cleaned and saved successfully\")"
   ]
  },
  {
   "cell_type": "code",
   "execution_count": null,
   "id": "c7ba3f55-ad43-4863-b3b6-9edcbf7e0be1",
   "metadata": {},
   "outputs": [],
   "source": []
  },
  {
   "cell_type": "code",
   "execution_count": null,
   "id": "803e0309-c057-46bc-ae87-d33fa4e6a93f",
   "metadata": {},
   "outputs": [],
   "source": []
  }
 ],
 "metadata": {
  "kernelspec": {
   "display_name": "Python [conda env:base] *",
   "language": "python",
   "name": "conda-base-py"
  },
  "language_info": {
   "codemirror_mode": {
    "name": "ipython",
    "version": 3
   },
   "file_extension": ".py",
   "mimetype": "text/x-python",
   "name": "python",
   "nbconvert_exporter": "python",
   "pygments_lexer": "ipython3",
   "version": "3.12.7"
  }
 },
 "nbformat": 4,
 "nbformat_minor": 5
}
