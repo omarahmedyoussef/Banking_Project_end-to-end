{
 "cells": [
  {
   "cell_type": "code",
   "execution_count": 2,
   "id": "c2e066f2-26b1-47f1-8ba0-5f89cc362a14",
   "metadata": {},
   "outputs": [],
   "source": [
    "import pandas as pd "
   ]
  },
  {
   "cell_type": "code",
   "execution_count": null,
   "id": "1ed2b770-545c-40d1-acda-ac6200906609",
   "metadata": {},
   "outputs": [],
   "source": [
    "#first we start with customers table then discover and clean it  "
   ]
  },
  {
   "cell_type": "code",
   "execution_count": 4,
   "id": "cff4db85-ad35-49eb-af11-05da490c671a",
   "metadata": {},
   "outputs": [],
   "source": [
    "customers = pd.read_csv(\"/Users/mac/Desktop/Banking_project/raw_data_dirty/bank_customers_dirty.csv\") "
   ]
  },
  {
   "cell_type": "code",
   "execution_count": 5,
   "id": "d7716b95-ae23-4bea-82c5-c0ed770d3bf2",
   "metadata": {},
   "outputs": [
    {
     "data": {
      "text/html": [
       "<div>\n",
       "<style scoped>\n",
       "    .dataframe tbody tr th:only-of-type {\n",
       "        vertical-align: middle;\n",
       "    }\n",
       "\n",
       "    .dataframe tbody tr th {\n",
       "        vertical-align: top;\n",
       "    }\n",
       "\n",
       "    .dataframe thead th {\n",
       "        text-align: right;\n",
       "    }\n",
       "</style>\n",
       "<table border=\"1\" class=\"dataframe\">\n",
       "  <thead>\n",
       "    <tr style=\"text-align: right;\">\n",
       "      <th></th>\n",
       "      <th>customer_id</th>\n",
       "      <th>name</th>\n",
       "      <th>age</th>\n",
       "      <th>city</th>\n",
       "      <th>job</th>\n",
       "      <th>marital_status</th>\n",
       "    </tr>\n",
       "  </thead>\n",
       "  <tbody>\n",
       "    <tr>\n",
       "      <th>0</th>\n",
       "      <td>1</td>\n",
       "      <td>Customer_1</td>\n",
       "      <td>56</td>\n",
       "      <td>cairo</td>\n",
       "      <td>engineer</td>\n",
       "      <td>single</td>\n",
       "    </tr>\n",
       "    <tr>\n",
       "      <th>1</th>\n",
       "      <td>2</td>\n",
       "      <td>Customer_2</td>\n",
       "      <td>69</td>\n",
       "      <td>cairo</td>\n",
       "      <td>doctor</td>\n",
       "      <td>single</td>\n",
       "    </tr>\n",
       "    <tr>\n",
       "      <th>2</th>\n",
       "      <td>3</td>\n",
       "      <td>Customer_3</td>\n",
       "      <td>46</td>\n",
       "      <td>Alexandira</td>\n",
       "      <td>unemployed</td>\n",
       "      <td>NaN</td>\n",
       "    </tr>\n",
       "    <tr>\n",
       "      <th>3</th>\n",
       "      <td>4</td>\n",
       "      <td>Customer_4</td>\n",
       "      <td>32</td>\n",
       "      <td>Cairo</td>\n",
       "      <td>developer</td>\n",
       "      <td>divorced</td>\n",
       "    </tr>\n",
       "    <tr>\n",
       "      <th>4</th>\n",
       "      <td>5</td>\n",
       "      <td>Customer_5</td>\n",
       "      <td>60</td>\n",
       "      <td>Alexandria</td>\n",
       "      <td>teacher</td>\n",
       "      <td>MARRIED</td>\n",
       "    </tr>\n",
       "  </tbody>\n",
       "</table>\n",
       "</div>"
      ],
      "text/plain": [
       "   customer_id        name  age        city         job marital_status\n",
       "0            1  Customer_1   56       cairo    engineer        single \n",
       "1            2  Customer_2   69       cairo      doctor         single\n",
       "2            3  Customer_3   46  Alexandira  unemployed            NaN\n",
       "3            4  Customer_4   32       Cairo   developer       divorced\n",
       "4            5  Customer_5   60  Alexandria     teacher        MARRIED"
      ]
     },
     "execution_count": 5,
     "metadata": {},
     "output_type": "execute_result"
    }
   ],
   "source": [
    "customers.head()"
   ]
  },
  {
   "cell_type": "code",
   "execution_count": 7,
   "id": "3f5c6080-b939-42fe-ab83-a09420da424e",
   "metadata": {},
   "outputs": [
    {
     "data": {
      "text/plain": [
       "0"
      ]
     },
     "execution_count": 7,
     "metadata": {},
     "output_type": "execute_result"
    }
   ],
   "source": [
    "customers.duplicated().sum() "
   ]
  },
  {
   "cell_type": "code",
   "execution_count": 11,
   "id": "4d7c68c2-a755-44d6-9876-7fd48e96b39e",
   "metadata": {},
   "outputs": [],
   "source": [
    "customers.columns =  customers.columns.str.strip().str.title() #1"
   ]
  },
  {
   "cell_type": "code",
   "execution_count": 12,
   "id": "001302c7-bbcc-4de1-82f6-e182714141a5",
   "metadata": {},
   "outputs": [
    {
     "data": {
      "text/html": [
       "<div>\n",
       "<style scoped>\n",
       "    .dataframe tbody tr th:only-of-type {\n",
       "        vertical-align: middle;\n",
       "    }\n",
       "\n",
       "    .dataframe tbody tr th {\n",
       "        vertical-align: top;\n",
       "    }\n",
       "\n",
       "    .dataframe thead th {\n",
       "        text-align: right;\n",
       "    }\n",
       "</style>\n",
       "<table border=\"1\" class=\"dataframe\">\n",
       "  <thead>\n",
       "    <tr style=\"text-align: right;\">\n",
       "      <th></th>\n",
       "      <th>Customer_Id</th>\n",
       "      <th>Name</th>\n",
       "      <th>Age</th>\n",
       "      <th>City</th>\n",
       "      <th>Job</th>\n",
       "      <th>Marital_Status</th>\n",
       "    </tr>\n",
       "  </thead>\n",
       "  <tbody>\n",
       "    <tr>\n",
       "      <th>0</th>\n",
       "      <td>1</td>\n",
       "      <td>Customer_1</td>\n",
       "      <td>56</td>\n",
       "      <td>cairo</td>\n",
       "      <td>engineer</td>\n",
       "      <td>single</td>\n",
       "    </tr>\n",
       "    <tr>\n",
       "      <th>1</th>\n",
       "      <td>2</td>\n",
       "      <td>Customer_2</td>\n",
       "      <td>69</td>\n",
       "      <td>cairo</td>\n",
       "      <td>doctor</td>\n",
       "      <td>single</td>\n",
       "    </tr>\n",
       "    <tr>\n",
       "      <th>2</th>\n",
       "      <td>3</td>\n",
       "      <td>Customer_3</td>\n",
       "      <td>46</td>\n",
       "      <td>Alexandira</td>\n",
       "      <td>unemployed</td>\n",
       "      <td>NaN</td>\n",
       "    </tr>\n",
       "    <tr>\n",
       "      <th>3</th>\n",
       "      <td>4</td>\n",
       "      <td>Customer_4</td>\n",
       "      <td>32</td>\n",
       "      <td>Cairo</td>\n",
       "      <td>developer</td>\n",
       "      <td>divorced</td>\n",
       "    </tr>\n",
       "    <tr>\n",
       "      <th>4</th>\n",
       "      <td>5</td>\n",
       "      <td>Customer_5</td>\n",
       "      <td>60</td>\n",
       "      <td>Alexandria</td>\n",
       "      <td>teacher</td>\n",
       "      <td>MARRIED</td>\n",
       "    </tr>\n",
       "  </tbody>\n",
       "</table>\n",
       "</div>"
      ],
      "text/plain": [
       "   Customer_Id        Name  Age        City         Job Marital_Status\n",
       "0            1  Customer_1   56       cairo    engineer        single \n",
       "1            2  Customer_2   69       cairo      doctor         single\n",
       "2            3  Customer_3   46  Alexandira  unemployed            NaN\n",
       "3            4  Customer_4   32       Cairo   developer       divorced\n",
       "4            5  Customer_5   60  Alexandria     teacher        MARRIED"
      ]
     },
     "execution_count": 12,
     "metadata": {},
     "output_type": "execute_result"
    }
   ],
   "source": [
    "customers.head()"
   ]
  },
  {
   "cell_type": "code",
   "execution_count": 16,
   "id": "04ef4337-a9c4-4655-bd80-0a80aba1adb3",
   "metadata": {},
   "outputs": [
    {
     "data": {
      "text/plain": [
       "City\n",
       "Cairo         1147\n",
       "Caiiro        1129\n",
       "Alexandira    1127\n",
       "Asyut         1108\n",
       "Alexandria    1106\n",
       "cairo         1104\n",
       "Giza          1100\n",
       "Mansoura      1092\n",
       "GIZA          1087\n",
       "Name: count, dtype: int64"
      ]
     },
     "execution_count": 16,
     "metadata": {},
     "output_type": "execute_result"
    }
   ],
   "source": [
    "customers[\"City\"].value_counts()"
   ]
  },
  {
   "cell_type": "code",
   "execution_count": 22,
   "id": "abf66eeb-9f71-45eb-8c22-f6cc894bbb41",
   "metadata": {},
   "outputs": [],
   "source": [
    "customers[\"City\"]=customers[\"City\"].replace(\n",
    "    {\n",
    "        \"Caiiro\":\"Cairo\" ,\n",
    "        \"cairo\" : \"Cairo\" ,\n",
    "        \"GIZA\" : \"Giza\" , \n",
    "        \"Alexandira\" : \"Alexandria\"\n",
    "    }\n",
    ") #2"
   ]
  },
  {
   "cell_type": "code",
   "execution_count": 23,
   "id": "14523082-9186-4e26-954b-3f5dfce1fce2",
   "metadata": {},
   "outputs": [
    {
     "data": {
      "text/plain": [
       "City\n",
       "Cairo         3380\n",
       "Alexandria    2233\n",
       "Giza          2187\n",
       "Asyut         1108\n",
       "Mansoura      1092\n",
       "Name: count, dtype: int64"
      ]
     },
     "execution_count": 23,
     "metadata": {},
     "output_type": "execute_result"
    }
   ],
   "source": [
    "customers[\"City\"].value_counts()"
   ]
  },
  {
   "cell_type": "code",
   "execution_count": 24,
   "id": "89db44ea-a9f2-4692-80b6-7eb41031003f",
   "metadata": {},
   "outputs": [
    {
     "data": {
      "text/plain": [
       "Job\n",
       "unemployed    1480\n",
       "teacher       1429\n",
       "developer     1423\n",
       "banker        1411\n",
       "doctor        1403\n",
       "engineer      1399\n",
       "Name: count, dtype: int64"
      ]
     },
     "execution_count": 24,
     "metadata": {},
     "output_type": "execute_result"
    }
   ],
   "source": [
    "customers[\"Job\"].value_counts()"
   ]
  },
  {
   "cell_type": "code",
   "execution_count": 25,
   "id": "2f55f79e-6895-4ec7-811e-4799cdc680ca",
   "metadata": {},
   "outputs": [
    {
     "data": {
      "text/plain": [
       "1455"
      ]
     },
     "execution_count": 25,
     "metadata": {},
     "output_type": "execute_result"
    }
   ],
   "source": [
    "customers[\"Job\"].isnull().sum() "
   ]
  },
  {
   "cell_type": "code",
   "execution_count": 26,
   "id": "6e91443b-f955-4bfe-b339-17016fd4a157",
   "metadata": {},
   "outputs": [],
   "source": [
    "customers[\"Job\"] = customers[\"Job\"].fillna(\"unemployed\") #3"
   ]
  },
  {
   "cell_type": "code",
   "execution_count": 27,
   "id": "aaf91a5d-b37b-4f36-b538-b8b0227ea7ce",
   "metadata": {},
   "outputs": [
    {
     "data": {
      "text/plain": [
       "0"
      ]
     },
     "execution_count": 27,
     "metadata": {},
     "output_type": "execute_result"
    }
   ],
   "source": [
    "customers[\"Job\"].isnull().sum() "
   ]
  },
  {
   "cell_type": "code",
   "execution_count": 28,
   "id": "ad20e416-10d6-48b7-ac59-0ab31d4ae644",
   "metadata": {},
   "outputs": [
    {
     "data": {
      "text/plain": [
       "Marital_Status\n",
       "MARRIED     1808\n",
       "divorced    1681\n",
       "single      1648\n",
       "single      1637\n",
       "married     1605\n",
       "Name: count, dtype: int64"
      ]
     },
     "execution_count": 28,
     "metadata": {},
     "output_type": "execute_result"
    }
   ],
   "source": [
    "customers[\"Marital_Status\"].value_counts()"
   ]
  },
  {
   "cell_type": "code",
   "execution_count": 30,
   "id": "ebc5c655-9c6d-4a3d-8a1e-45e337cc9bb4",
   "metadata": {},
   "outputs": [],
   "source": [
    "customers[\"Marital_Status\"] = customers[\"Marital_Status\"].str.strip().str.title()  #4"
   ]
  },
  {
   "cell_type": "code",
   "execution_count": 31,
   "id": "8b8bf96b-0f67-4125-bf0f-f19fa596c2e7",
   "metadata": {},
   "outputs": [
    {
     "data": {
      "text/plain": [
       "Marital_Status\n",
       "Married     3413\n",
       "Single      3285\n",
       "Divorced    1681\n",
       "Name: count, dtype: int64"
      ]
     },
     "execution_count": 31,
     "metadata": {},
     "output_type": "execute_result"
    }
   ],
   "source": [
    "customers[\"Marital_Status\"].value_counts()"
   ]
  },
  {
   "cell_type": "code",
   "execution_count": 32,
   "id": "c199ceb7-b8cf-4c6d-9f1f-cc0fd602678b",
   "metadata": {},
   "outputs": [
    {
     "data": {
      "text/plain": [
       "count    10000.000000\n",
       "mean        43.539400\n",
       "std         14.911636\n",
       "min         18.000000\n",
       "25%         31.000000\n",
       "50%         43.000000\n",
       "75%         56.000000\n",
       "max         69.000000\n",
       "Name: Age, dtype: float64"
      ]
     },
     "execution_count": 32,
     "metadata": {},
     "output_type": "execute_result"
    }
   ],
   "source": [
    "customers[\"Age\"].describe()"
   ]
  },
  {
   "cell_type": "code",
   "execution_count": 33,
   "id": "a0a93964-058e-42c1-b45c-7db8ce90b199",
   "metadata": {},
   "outputs": [],
   "source": [
    "# customers table is clean now "
   ]
  },
  {
   "cell_type": "code",
   "execution_count": 34,
   "id": "165219ce-f27a-4179-bbf1-85e5af3cd809",
   "metadata": {},
   "outputs": [],
   "source": [
    "import pandas as pd \n",
    "bank_accounts = pd.read_csv(\"/Users/mac/Desktop/Banking_project/raw_data_dirty/bank_accounts_dirty.csv\") "
   ]
  },
  {
   "cell_type": "code",
   "execution_count": 35,
   "id": "d9cee477-e893-4b27-9b2c-ba9812fa6e34",
   "metadata": {},
   "outputs": [
    {
     "data": {
      "text/html": [
       "<div>\n",
       "<style scoped>\n",
       "    .dataframe tbody tr th:only-of-type {\n",
       "        vertical-align: middle;\n",
       "    }\n",
       "\n",
       "    .dataframe tbody tr th {\n",
       "        vertical-align: top;\n",
       "    }\n",
       "\n",
       "    .dataframe thead th {\n",
       "        text-align: right;\n",
       "    }\n",
       "</style>\n",
       "<table border=\"1\" class=\"dataframe\">\n",
       "  <thead>\n",
       "    <tr style=\"text-align: right;\">\n",
       "      <th></th>\n",
       "      <th>account_id</th>\n",
       "      <th>customer_id</th>\n",
       "      <th>account_type</th>\n",
       "      <th>open_date</th>\n",
       "      <th>balance</th>\n",
       "    </tr>\n",
       "  </thead>\n",
       "  <tbody>\n",
       "    <tr>\n",
       "      <th>0</th>\n",
       "      <td>1</td>\n",
       "      <td>8699</td>\n",
       "      <td>fixed</td>\n",
       "      <td>2021-02-16</td>\n",
       "      <td>42067.35</td>\n",
       "    </tr>\n",
       "    <tr>\n",
       "      <th>1</th>\n",
       "      <td>2</td>\n",
       "      <td>6248</td>\n",
       "      <td>saving</td>\n",
       "      <td>2015-10-10</td>\n",
       "      <td>17067.56</td>\n",
       "    </tr>\n",
       "    <tr>\n",
       "      <th>2</th>\n",
       "      <td>3</td>\n",
       "      <td>8638</td>\n",
       "      <td>NaN</td>\n",
       "      <td>2017-08-28</td>\n",
       "      <td>63089.66</td>\n",
       "    </tr>\n",
       "    <tr>\n",
       "      <th>3</th>\n",
       "      <td>4</td>\n",
       "      <td>2782</td>\n",
       "      <td>NaN</td>\n",
       "      <td>2016-05-03</td>\n",
       "      <td>95528.90</td>\n",
       "    </tr>\n",
       "    <tr>\n",
       "      <th>4</th>\n",
       "      <td>5</td>\n",
       "      <td>444</td>\n",
       "      <td>NaN</td>\n",
       "      <td>2022-10-24</td>\n",
       "      <td>80654.34</td>\n",
       "    </tr>\n",
       "  </tbody>\n",
       "</table>\n",
       "</div>"
      ],
      "text/plain": [
       "   account_id  customer_id account_type   open_date   balance\n",
       "0           1         8699        fixed  2021-02-16  42067.35\n",
       "1           2         6248       saving  2015-10-10  17067.56\n",
       "2           3         8638          NaN  2017-08-28  63089.66\n",
       "3           4         2782          NaN  2016-05-03  95528.90\n",
       "4           5          444          NaN  2022-10-24  80654.34"
      ]
     },
     "execution_count": 35,
     "metadata": {},
     "output_type": "execute_result"
    }
   ],
   "source": [
    "bank_accounts.head()\n"
   ]
  },
  {
   "cell_type": "code",
   "execution_count": 37,
   "id": "cb4ba53a-0dbe-4fe0-b225-bcedca58961c",
   "metadata": {},
   "outputs": [
    {
     "data": {
      "text/plain": [
       "0"
      ]
     },
     "execution_count": 37,
     "metadata": {},
     "output_type": "execute_result"
    }
   ],
   "source": [
    "bank_accounts.duplicated().sum()"
   ]
  },
  {
   "cell_type": "code",
   "execution_count": 38,
   "id": "d272b36f-185e-4917-b2c5-847f2217c791",
   "metadata": {},
   "outputs": [],
   "source": [
    "bank_accounts[\"open_date\"] = pd.to_datetime(bank_accounts[\"open_date\"]) #1"
   ]
  },
  {
   "cell_type": "code",
   "execution_count": 39,
   "id": "c10c861e-7d76-4796-a95c-c4ab9242d6ad",
   "metadata": {},
   "outputs": [
    {
     "data": {
      "text/plain": [
       "account_type\n",
       "saving     2008\n",
       "current    1996\n",
       "fixed      1991\n",
       "SAVING     1962\n",
       "Name: count, dtype: int64"
      ]
     },
     "execution_count": 39,
     "metadata": {},
     "output_type": "execute_result"
    }
   ],
   "source": [
    "bank_accounts[\"account_type\"].value_counts()"
   ]
  },
  {
   "cell_type": "code",
   "execution_count": 40,
   "id": "d1690073-751e-47d3-8852-47ee68735b51",
   "metadata": {},
   "outputs": [],
   "source": [
    "bank_accounts[\"account_type\"]= bank_accounts[\"account_type\"].str.lower() #2"
   ]
  },
  {
   "cell_type": "code",
   "execution_count": 41,
   "id": "12b6ddad-314a-48a9-8553-47865453e89d",
   "metadata": {},
   "outputs": [
    {
     "data": {
      "text/plain": [
       "account_type\n",
       "saving     3970\n",
       "current    1996\n",
       "fixed      1991\n",
       "Name: count, dtype: int64"
      ]
     },
     "execution_count": 41,
     "metadata": {},
     "output_type": "execute_result"
    }
   ],
   "source": [
    "bank_accounts[\"account_type\"].value_counts()"
   ]
  },
  {
   "cell_type": "code",
   "execution_count": 43,
   "id": "5f0bc476-fee3-4ae0-aeeb-3ba90065b96a",
   "metadata": {},
   "outputs": [],
   "source": [
    "bank_accounts[\"account_type\"]=bank_accounts[\"account_type\"].fillna(\"saving\") #3"
   ]
  },
  {
   "cell_type": "code",
   "execution_count": 44,
   "id": "f2a4580f-8ca2-4d12-951d-e98abc361346",
   "metadata": {},
   "outputs": [
    {
     "data": {
      "text/plain": [
       "account_type\n",
       "saving     6013\n",
       "current    1996\n",
       "fixed      1991\n",
       "Name: count, dtype: int64"
      ]
     },
     "execution_count": 44,
     "metadata": {},
     "output_type": "execute_result"
    }
   ],
   "source": [
    "bank_accounts[\"account_type\"].value_counts()"
   ]
  },
  {
   "cell_type": "code",
   "execution_count": 45,
   "id": "a994bc2a-f995-4cfd-becb-dc3d87e7c275",
   "metadata": {},
   "outputs": [],
   "source": [
    "bank_loans = pd.read_csv(\"/Users/mac/Desktop/Banking_project/raw_data_dirty/bank_loans_dirty.csv\")"
   ]
  },
  {
   "cell_type": "code",
   "execution_count": 46,
   "id": "33f7c198-cd7a-44e5-b789-125d530c60c0",
   "metadata": {},
   "outputs": [
    {
     "data": {
      "text/html": [
       "<div>\n",
       "<style scoped>\n",
       "    .dataframe tbody tr th:only-of-type {\n",
       "        vertical-align: middle;\n",
       "    }\n",
       "\n",
       "    .dataframe tbody tr th {\n",
       "        vertical-align: top;\n",
       "    }\n",
       "\n",
       "    .dataframe thead th {\n",
       "        text-align: right;\n",
       "    }\n",
       "</style>\n",
       "<table border=\"1\" class=\"dataframe\">\n",
       "  <thead>\n",
       "    <tr style=\"text-align: right;\">\n",
       "      <th></th>\n",
       "      <th>loan_id</th>\n",
       "      <th>customer_id</th>\n",
       "      <th>loan_type</th>\n",
       "      <th>loan_amount</th>\n",
       "      <th>installments</th>\n",
       "      <th>loan_status</th>\n",
       "    </tr>\n",
       "  </thead>\n",
       "  <tbody>\n",
       "    <tr>\n",
       "      <th>0</th>\n",
       "      <td>1</td>\n",
       "      <td>3899</td>\n",
       "      <td>Personal</td>\n",
       "      <td>13970.96</td>\n",
       "      <td>29</td>\n",
       "      <td>in_progress</td>\n",
       "    </tr>\n",
       "    <tr>\n",
       "      <th>1</th>\n",
       "      <td>2</td>\n",
       "      <td>7054</td>\n",
       "      <td>NaN</td>\n",
       "      <td>46669.49</td>\n",
       "      <td>26</td>\n",
       "      <td>default</td>\n",
       "    </tr>\n",
       "    <tr>\n",
       "      <th>2</th>\n",
       "      <td>3</td>\n",
       "      <td>589</td>\n",
       "      <td>personal</td>\n",
       "      <td>45194.35</td>\n",
       "      <td>40</td>\n",
       "      <td>default</td>\n",
       "    </tr>\n",
       "    <tr>\n",
       "      <th>3</th>\n",
       "      <td>4</td>\n",
       "      <td>1662</td>\n",
       "      <td>personal</td>\n",
       "      <td>41004.32</td>\n",
       "      <td>46</td>\n",
       "      <td>default</td>\n",
       "    </tr>\n",
       "    <tr>\n",
       "      <th>4</th>\n",
       "      <td>5</td>\n",
       "      <td>7512</td>\n",
       "      <td>business</td>\n",
       "      <td>8303.01</td>\n",
       "      <td>14</td>\n",
       "      <td>NaN</td>\n",
       "    </tr>\n",
       "  </tbody>\n",
       "</table>\n",
       "</div>"
      ],
      "text/plain": [
       "   loan_id  customer_id loan_type  loan_amount  installments  loan_status\n",
       "0        1         3899  Personal     13970.96            29  in_progress\n",
       "1        2         7054       NaN     46669.49            26      default\n",
       "2        3          589  personal     45194.35            40      default\n",
       "3        4         1662  personal     41004.32            46      default\n",
       "4        5         7512  business      8303.01            14          NaN"
      ]
     },
     "execution_count": 46,
     "metadata": {},
     "output_type": "execute_result"
    }
   ],
   "source": [
    "bank_loans.head()"
   ]
  },
  {
   "cell_type": "code",
   "execution_count": 47,
   "id": "6daf1ae1-23ff-4361-b64a-6594adf8ccf9",
   "metadata": {},
   "outputs": [
    {
     "data": {
      "text/plain": [
       "0"
      ]
     },
     "execution_count": 47,
     "metadata": {},
     "output_type": "execute_result"
    }
   ],
   "source": [
    "bank_loans.duplicated().sum()"
   ]
  },
  {
   "cell_type": "code",
   "execution_count": 48,
   "id": "48fd7e92-18b4-4256-8284-7b4f7bf3d92f",
   "metadata": {},
   "outputs": [
    {
     "data": {
      "text/plain": [
       "loan_type\n",
       "auto        1753\n",
       "mortgage    1700\n",
       "business    1664\n",
       "Personal    1610\n",
       "personal    1603\n",
       "Name: count, dtype: int64"
      ]
     },
     "execution_count": 48,
     "metadata": {},
     "output_type": "execute_result"
    }
   ],
   "source": [
    "bank_loans[\"loan_type\"].value_counts()"
   ]
  },
  {
   "cell_type": "code",
   "execution_count": 49,
   "id": "65659b40-2d5d-4f90-8e15-a84a0bb85983",
   "metadata": {},
   "outputs": [],
   "source": [
    "bank_loans[\"loan_type\"] = bank_loans[\"loan_type\"].str.strip().str.title()  #1"
   ]
  },
  {
   "cell_type": "code",
   "execution_count": 50,
   "id": "c0d7c65d-19ac-4da1-81b4-f2ecfe909a7e",
   "metadata": {},
   "outputs": [
    {
     "data": {
      "text/plain": [
       "loan_type\n",
       "Personal    3213\n",
       "Auto        1753\n",
       "Mortgage    1700\n",
       "Business    1664\n",
       "Name: count, dtype: int64"
      ]
     },
     "execution_count": 50,
     "metadata": {},
     "output_type": "execute_result"
    }
   ],
   "source": [
    "bank_loans[\"loan_type\"].value_counts()"
   ]
  },
  {
   "cell_type": "code",
   "execution_count": 51,
   "id": "1a7dad49-ccd2-4554-a8ff-15e258a65401",
   "metadata": {},
   "outputs": [
    {
     "data": {
      "text/plain": [
       "loan_status\n",
       "default        1708\n",
       "PAID           1682\n",
       "in_progress    1656\n",
       "paid           1643\n",
       "defaulted      1642\n",
       "Name: count, dtype: int64"
      ]
     },
     "execution_count": 51,
     "metadata": {},
     "output_type": "execute_result"
    }
   ],
   "source": [
    "bank_loans[\"loan_status\"].value_counts()"
   ]
  },
  {
   "cell_type": "code",
   "execution_count": 52,
   "id": "20d941a0-3ea2-4ef2-a83f-de83803c9b3d",
   "metadata": {},
   "outputs": [],
   "source": [
    "bank_loans[\"loan_status\"] = bank_loans[\"loan_status\"].str.strip().str.title() #2"
   ]
  },
  {
   "cell_type": "code",
   "execution_count": 53,
   "id": "7675c098-6e1f-47c5-ae04-308980d6d42a",
   "metadata": {},
   "outputs": [
    {
     "data": {
      "text/plain": [
       "loan_status\n",
       "Paid           3325\n",
       "Default        1708\n",
       "In_Progress    1656\n",
       "Defaulted      1642\n",
       "Name: count, dtype: int64"
      ]
     },
     "execution_count": 53,
     "metadata": {},
     "output_type": "execute_result"
    }
   ],
   "source": [
    "bank_loans[\"loan_status\"].value_counts()"
   ]
  },
  {
   "cell_type": "code",
   "execution_count": 54,
   "id": "0f583c3f-68af-4fcc-980c-68394bf481ed",
   "metadata": {},
   "outputs": [],
   "source": [
    "bank_loans[\"loan_type\"] = bank_loans[\"loan_type\"].fillna(\"Personal\") #3"
   ]
  },
  {
   "cell_type": "code",
   "execution_count": 55,
   "id": "8fcfe00b-ee67-4280-8e8b-4fc0f4e53654",
   "metadata": {},
   "outputs": [
    {
     "data": {
      "text/plain": [
       "1669"
      ]
     },
     "execution_count": 55,
     "metadata": {},
     "output_type": "execute_result"
    }
   ],
   "source": [
    "bank_loans[\"loan_status\"].isnull().sum()"
   ]
  },
  {
   "cell_type": "code",
   "execution_count": 56,
   "id": "6aa37b04-41c7-4f6a-9ba3-3894d937490f",
   "metadata": {},
   "outputs": [],
   "source": [
    "bank_loans[\"loan_status\"] = bank_loans[\"loan_status\"].fillna(\"Defaulted\") #4 "
   ]
  },
  {
   "cell_type": "code",
   "execution_count": 57,
   "id": "f591b47e-e234-4c2e-9b9d-514ae57e2f5c",
   "metadata": {},
   "outputs": [],
   "source": [
    "bank_transactions = pd.read_csv(\"/Users/mac/Desktop/Banking_project/raw_data_dirty/bank_transactions_dirty.csv\")"
   ]
  },
  {
   "cell_type": "code",
   "execution_count": 58,
   "id": "341155b8-e8fe-4a1a-bd7b-ca461630b436",
   "metadata": {},
   "outputs": [
    {
     "data": {
      "text/html": [
       "<div>\n",
       "<style scoped>\n",
       "    .dataframe tbody tr th:only-of-type {\n",
       "        vertical-align: middle;\n",
       "    }\n",
       "\n",
       "    .dataframe tbody tr th {\n",
       "        vertical-align: top;\n",
       "    }\n",
       "\n",
       "    .dataframe thead th {\n",
       "        text-align: right;\n",
       "    }\n",
       "</style>\n",
       "<table border=\"1\" class=\"dataframe\">\n",
       "  <thead>\n",
       "    <tr style=\"text-align: right;\">\n",
       "      <th></th>\n",
       "      <th>transaction_id</th>\n",
       "      <th>account_id</th>\n",
       "      <th>transaction_type</th>\n",
       "      <th>transaction_date</th>\n",
       "      <th>amount</th>\n",
       "    </tr>\n",
       "  </thead>\n",
       "  <tbody>\n",
       "    <tr>\n",
       "      <th>0</th>\n",
       "      <td>1</td>\n",
       "      <td>8083</td>\n",
       "      <td>withdrawal</td>\n",
       "      <td>2020-06-09</td>\n",
       "      <td>1889.64</td>\n",
       "    </tr>\n",
       "    <tr>\n",
       "      <th>1</th>\n",
       "      <td>2</td>\n",
       "      <td>2653</td>\n",
       "      <td>Deposit</td>\n",
       "      <td>2021-09-25</td>\n",
       "      <td>7677.39</td>\n",
       "    </tr>\n",
       "    <tr>\n",
       "      <th>2</th>\n",
       "      <td>3</td>\n",
       "      <td>4978</td>\n",
       "      <td>transfer</td>\n",
       "      <td>2022-12-04</td>\n",
       "      <td>1194.58</td>\n",
       "    </tr>\n",
       "    <tr>\n",
       "      <th>3</th>\n",
       "      <td>4</td>\n",
       "      <td>3759</td>\n",
       "      <td>NaN</td>\n",
       "      <td>2021-05-10</td>\n",
       "      <td>882.83</td>\n",
       "    </tr>\n",
       "    <tr>\n",
       "      <th>4</th>\n",
       "      <td>5</td>\n",
       "      <td>3898</td>\n",
       "      <td>deposit</td>\n",
       "      <td>2020-02-29</td>\n",
       "      <td>6801.89</td>\n",
       "    </tr>\n",
       "  </tbody>\n",
       "</table>\n",
       "</div>"
      ],
      "text/plain": [
       "   transaction_id  account_id transaction_type transaction_date   amount\n",
       "0               1        8083       withdrawal       2020-06-09  1889.64\n",
       "1               2        2653          Deposit       2021-09-25  7677.39\n",
       "2               3        4978         transfer       2022-12-04  1194.58\n",
       "3               4        3759              NaN       2021-05-10   882.83\n",
       "4               5        3898          deposit       2020-02-29  6801.89"
      ]
     },
     "execution_count": 58,
     "metadata": {},
     "output_type": "execute_result"
    }
   ],
   "source": [
    "bank_transactions.head()"
   ]
  },
  {
   "cell_type": "code",
   "execution_count": 59,
   "id": "2e786e7e-0728-4b4d-90aa-68e80d9ad4ca",
   "metadata": {},
   "outputs": [
    {
     "data": {
      "text/plain": [
       "transaction_id         0\n",
       "account_id             0\n",
       "transaction_type    1674\n",
       "transaction_date       0\n",
       "amount                 0\n",
       "dtype: int64"
      ]
     },
     "execution_count": 59,
     "metadata": {},
     "output_type": "execute_result"
    }
   ],
   "source": [
    "bank_transactions.isnull().sum()"
   ]
  },
  {
   "cell_type": "code",
   "execution_count": 60,
   "id": "0045136b-866f-4ccd-bbc9-63cf2ac5030a",
   "metadata": {},
   "outputs": [
    {
     "data": {
      "text/plain": [
       "0"
      ]
     },
     "execution_count": 60,
     "metadata": {},
     "output_type": "execute_result"
    }
   ],
   "source": [
    "bank_transactions.duplicated().sum()"
   ]
  },
  {
   "cell_type": "code",
   "execution_count": 61,
   "id": "fed46c53-63b7-46c6-bf7e-5cfd34bc375f",
   "metadata": {},
   "outputs": [],
   "source": [
    "bank_transactions[\"transaction_date\"] = pd.to_datetime(bank_transactions[\"transaction_date\"]) #1"
   ]
  },
  {
   "cell_type": "code",
   "execution_count": 62,
   "id": "d2bb82d0-b0ba-4a12-952e-74d7b079ef9d",
   "metadata": {},
   "outputs": [
    {
     "data": {
      "text/plain": [
       "transaction_type\n",
       "deposit       1718\n",
       "transfer      1685\n",
       "withdraw      1657\n",
       "withdrawal    1643\n",
       "Deposit       1623\n",
       "Name: count, dtype: int64"
      ]
     },
     "execution_count": 62,
     "metadata": {},
     "output_type": "execute_result"
    }
   ],
   "source": [
    "bank_transactions[\"transaction_type\"].value_counts()"
   ]
  },
  {
   "cell_type": "code",
   "execution_count": 64,
   "id": "8c289276-013f-405a-a038-2ced0425fcc3",
   "metadata": {},
   "outputs": [],
   "source": [
    "bank_transactions[\"transaction_type\"]=bank_transactions[\"transaction_type\"].str.strip().str.title() #2"
   ]
  },
  {
   "cell_type": "code",
   "execution_count": 65,
   "id": "ade687c1-ffb9-46d7-86b0-3718b6ce7358",
   "metadata": {},
   "outputs": [
    {
     "data": {
      "text/plain": [
       "transaction_type\n",
       "Deposit       3341\n",
       "Transfer      1685\n",
       "Withdraw      1657\n",
       "Withdrawal    1643\n",
       "Name: count, dtype: int64"
      ]
     },
     "execution_count": 65,
     "metadata": {},
     "output_type": "execute_result"
    }
   ],
   "source": [
    "bank_transactions[\"transaction_type\"].value_counts()"
   ]
  },
  {
   "cell_type": "code",
   "execution_count": 68,
   "id": "26331bd4-6b03-4978-88b3-a89f0e7db751",
   "metadata": {},
   "outputs": [],
   "source": [
    "bank_transactions[\"transaction_type\"]=bank_transactions[\"transaction_type\"].replace({\n",
    "    \"Withdrawal\" : \"Withdraw\"\n",
    "}) #3"
   ]
  },
  {
   "cell_type": "code",
   "execution_count": 69,
   "id": "b42b655f-44c7-44e7-a7df-6dbe3860f492",
   "metadata": {},
   "outputs": [
    {
     "data": {
      "text/plain": [
       "transaction_type\n",
       "Deposit     3341\n",
       "Withdraw    3300\n",
       "Transfer    1685\n",
       "Name: count, dtype: int64"
      ]
     },
     "execution_count": 69,
     "metadata": {},
     "output_type": "execute_result"
    }
   ],
   "source": [
    "bank_transactions[\"transaction_type\"].value_counts()"
   ]
  },
  {
   "cell_type": "code",
   "execution_count": 72,
   "id": "09ae63bf-7037-4c03-8281-b8c23671eb66",
   "metadata": {},
   "outputs": [
    {
     "data": {
      "text/html": [
       "<div>\n",
       "<style scoped>\n",
       "    .dataframe tbody tr th:only-of-type {\n",
       "        vertical-align: middle;\n",
       "    }\n",
       "\n",
       "    .dataframe tbody tr th {\n",
       "        vertical-align: top;\n",
       "    }\n",
       "\n",
       "    .dataframe thead th {\n",
       "        text-align: right;\n",
       "    }\n",
       "</style>\n",
       "<table border=\"1\" class=\"dataframe\">\n",
       "  <thead>\n",
       "    <tr style=\"text-align: right;\">\n",
       "      <th></th>\n",
       "      <th>transaction_id</th>\n",
       "      <th>account_id</th>\n",
       "      <th>transaction_type</th>\n",
       "      <th>transaction_date</th>\n",
       "      <th>amount</th>\n",
       "    </tr>\n",
       "  </thead>\n",
       "  <tbody>\n",
       "  </tbody>\n",
       "</table>\n",
       "</div>"
      ],
      "text/plain": [
       "Empty DataFrame\n",
       "Columns: [transaction_id, account_id, transaction_type, transaction_date, amount]\n",
       "Index: []"
      ]
     },
     "execution_count": 72,
     "metadata": {},
     "output_type": "execute_result"
    }
   ],
   "source": [
    "bank_transactions[bank_transactions[\"amount\"]<0] "
   ]
  },
  {
   "cell_type": "code",
   "execution_count": 74,
   "id": "b8dd60aa-4ede-4d75-a3d3-e8297f1b3e05",
   "metadata": {},
   "outputs": [],
   "source": [
    "# Fill missing transaction_type with 'Unknown' since we can't infer it from other fields\n",
    "bank_transactions[\"transaction_type\"] = bank_transactions[\"transaction_type\"].fillna(\"Unknown\")\n"
   ]
  },
  {
   "cell_type": "code",
   "execution_count": 75,
   "id": "c022ef06-8eb3-480e-bda8-7780758ec113",
   "metadata": {},
   "outputs": [],
   "source": [
    "bank_complaints = pd.read_csv(\"/Users/mac/Desktop/Banking_project/raw_data_dirty/bank_complaints_dirty.csv\")"
   ]
  },
  {
   "cell_type": "code",
   "execution_count": 76,
   "id": "21b3ee34-8578-4ef7-a433-e33f40229cfa",
   "metadata": {},
   "outputs": [
    {
     "data": {
      "text/html": [
       "<div>\n",
       "<style scoped>\n",
       "    .dataframe tbody tr th:only-of-type {\n",
       "        vertical-align: middle;\n",
       "    }\n",
       "\n",
       "    .dataframe tbody tr th {\n",
       "        vertical-align: top;\n",
       "    }\n",
       "\n",
       "    .dataframe thead th {\n",
       "        text-align: right;\n",
       "    }\n",
       "</style>\n",
       "<table border=\"1\" class=\"dataframe\">\n",
       "  <thead>\n",
       "    <tr style=\"text-align: right;\">\n",
       "      <th></th>\n",
       "      <th>complaint_id</th>\n",
       "      <th>customer_id</th>\n",
       "      <th>complaint_type</th>\n",
       "      <th>complaint_date</th>\n",
       "      <th>status</th>\n",
       "    </tr>\n",
       "  </thead>\n",
       "  <tbody>\n",
       "    <tr>\n",
       "      <th>0</th>\n",
       "      <td>1</td>\n",
       "      <td>3830</td>\n",
       "      <td>service</td>\n",
       "      <td>2022-12-01</td>\n",
       "      <td>in_progress</td>\n",
       "    </tr>\n",
       "    <tr>\n",
       "      <th>1</th>\n",
       "      <td>2</td>\n",
       "      <td>596</td>\n",
       "      <td>loan</td>\n",
       "      <td>2022-05-13</td>\n",
       "      <td>in_progress</td>\n",
       "    </tr>\n",
       "    <tr>\n",
       "      <th>2</th>\n",
       "      <td>3</td>\n",
       "      <td>78</td>\n",
       "      <td>transaction</td>\n",
       "      <td>2021-12-17</td>\n",
       "      <td>in_progress</td>\n",
       "    </tr>\n",
       "    <tr>\n",
       "      <th>3</th>\n",
       "      <td>4</td>\n",
       "      <td>1296</td>\n",
       "      <td>service</td>\n",
       "      <td>2023-05-01</td>\n",
       "      <td>pending</td>\n",
       "    </tr>\n",
       "    <tr>\n",
       "      <th>4</th>\n",
       "      <td>5</td>\n",
       "      <td>7061</td>\n",
       "      <td>Transaction</td>\n",
       "      <td>2022-01-04</td>\n",
       "      <td>pending</td>\n",
       "    </tr>\n",
       "  </tbody>\n",
       "</table>\n",
       "</div>"
      ],
      "text/plain": [
       "   complaint_id  customer_id complaint_type complaint_date       status\n",
       "0             1         3830        service     2022-12-01  in_progress\n",
       "1             2          596           loan     2022-05-13  in_progress\n",
       "2             3           78    transaction     2021-12-17  in_progress\n",
       "3             4         1296        service     2023-05-01      pending\n",
       "4             5         7061    Transaction     2022-01-04      pending"
      ]
     },
     "execution_count": 76,
     "metadata": {},
     "output_type": "execute_result"
    }
   ],
   "source": [
    "bank_complaints.head()"
   ]
  },
  {
   "cell_type": "code",
   "execution_count": 77,
   "id": "eac4bf9d-3500-4381-bc7c-996a70f70649",
   "metadata": {},
   "outputs": [],
   "source": [
    "bank_complaints[\"complaint_date\"] = pd.to_datetime(bank_complaints[\"complaint_date\"]) #1"
   ]
  },
  {
   "cell_type": "code",
   "execution_count": 78,
   "id": "2f14f063-815a-4cd8-a3ff-a873bc9f9270",
   "metadata": {},
   "outputs": [
    {
     "data": {
      "text/plain": [
       "complaint_type\n",
       "service        1449\n",
       "Transaction    1430\n",
       "transaction    1425\n",
       "loan           1399\n",
       "other          1391\n",
       "Name: count, dtype: int64"
      ]
     },
     "execution_count": 78,
     "metadata": {},
     "output_type": "execute_result"
    }
   ],
   "source": [
    "bank_complaints[\"complaint_type\"].value_counts()"
   ]
  },
  {
   "cell_type": "code",
   "execution_count": 79,
   "id": "962649d5-403d-4b48-a900-af4763b0f528",
   "metadata": {},
   "outputs": [],
   "source": [
    "bank_complaints[\"complaint_type\"] = bank_complaints[\"complaint_type\"].str.strip().str.title() #2 "
   ]
  },
  {
   "cell_type": "code",
   "execution_count": 80,
   "id": "19a6cdc5-1d41-4365-aaae-fae309239546",
   "metadata": {},
   "outputs": [
    {
     "data": {
      "text/plain": [
       "complaint_type\n",
       "Transaction    2855\n",
       "Service        1449\n",
       "Loan           1399\n",
       "Other          1391\n",
       "Name: count, dtype: int64"
      ]
     },
     "execution_count": 80,
     "metadata": {},
     "output_type": "execute_result"
    }
   ],
   "source": [
    "bank_complaints[\"complaint_type\"].value_counts()"
   ]
  },
  {
   "cell_type": "code",
   "execution_count": 81,
   "id": "693cbf22-cb67-4626-a1d5-0d02a3afb404",
   "metadata": {},
   "outputs": [
    {
     "data": {
      "text/html": [
       "<div>\n",
       "<style scoped>\n",
       "    .dataframe tbody tr th:only-of-type {\n",
       "        vertical-align: middle;\n",
       "    }\n",
       "\n",
       "    .dataframe tbody tr th {\n",
       "        vertical-align: top;\n",
       "    }\n",
       "\n",
       "    .dataframe thead th {\n",
       "        text-align: right;\n",
       "    }\n",
       "</style>\n",
       "<table border=\"1\" class=\"dataframe\">\n",
       "  <thead>\n",
       "    <tr style=\"text-align: right;\">\n",
       "      <th></th>\n",
       "      <th>complaint_id</th>\n",
       "      <th>customer_id</th>\n",
       "      <th>complaint_type</th>\n",
       "      <th>complaint_date</th>\n",
       "      <th>status</th>\n",
       "    </tr>\n",
       "  </thead>\n",
       "  <tbody>\n",
       "    <tr>\n",
       "      <th>0</th>\n",
       "      <td>1</td>\n",
       "      <td>3830</td>\n",
       "      <td>Service</td>\n",
       "      <td>2022-12-01</td>\n",
       "      <td>in_progress</td>\n",
       "    </tr>\n",
       "    <tr>\n",
       "      <th>1</th>\n",
       "      <td>2</td>\n",
       "      <td>596</td>\n",
       "      <td>Loan</td>\n",
       "      <td>2022-05-13</td>\n",
       "      <td>in_progress</td>\n",
       "    </tr>\n",
       "    <tr>\n",
       "      <th>2</th>\n",
       "      <td>3</td>\n",
       "      <td>78</td>\n",
       "      <td>Transaction</td>\n",
       "      <td>2021-12-17</td>\n",
       "      <td>in_progress</td>\n",
       "    </tr>\n",
       "    <tr>\n",
       "      <th>3</th>\n",
       "      <td>4</td>\n",
       "      <td>1296</td>\n",
       "      <td>Service</td>\n",
       "      <td>2023-05-01</td>\n",
       "      <td>pending</td>\n",
       "    </tr>\n",
       "    <tr>\n",
       "      <th>4</th>\n",
       "      <td>5</td>\n",
       "      <td>7061</td>\n",
       "      <td>Transaction</td>\n",
       "      <td>2022-01-04</td>\n",
       "      <td>pending</td>\n",
       "    </tr>\n",
       "  </tbody>\n",
       "</table>\n",
       "</div>"
      ],
      "text/plain": [
       "   complaint_id  customer_id complaint_type complaint_date       status\n",
       "0             1         3830        Service     2022-12-01  in_progress\n",
       "1             2          596           Loan     2022-05-13  in_progress\n",
       "2             3           78    Transaction     2021-12-17  in_progress\n",
       "3             4         1296        Service     2023-05-01      pending\n",
       "4             5         7061    Transaction     2022-01-04      pending"
      ]
     },
     "execution_count": 81,
     "metadata": {},
     "output_type": "execute_result"
    }
   ],
   "source": [
    "bank_complaints.head()"
   ]
  },
  {
   "cell_type": "code",
   "execution_count": 82,
   "id": "8211b154-70aa-4483-a741-8817c317cfb8",
   "metadata": {},
   "outputs": [
    {
     "data": {
      "text/plain": [
       "2906"
      ]
     },
     "execution_count": 82,
     "metadata": {},
     "output_type": "execute_result"
    }
   ],
   "source": [
    "bank_complaints[\"complaint_type\"].isnull().sum()"
   ]
  },
  {
   "cell_type": "code",
   "execution_count": 83,
   "id": "9f983ab9-cdfe-4a9c-921b-b703b278e873",
   "metadata": {},
   "outputs": [],
   "source": [
    "bank_complaints[\"complaint_type\"] = bank_complaints[\"complaint_type\"].fillna(\"Other\") #3"
   ]
  },
  {
   "cell_type": "code",
   "execution_count": 84,
   "id": "d884c06a-569b-43ec-abf2-eb69aa333a9f",
   "metadata": {},
   "outputs": [
    {
     "data": {
      "text/plain": [
       "0"
      ]
     },
     "execution_count": 84,
     "metadata": {},
     "output_type": "execute_result"
    }
   ],
   "source": [
    "bank_complaints[\"complaint_type\"].isnull().sum()"
   ]
  },
  {
   "cell_type": "code",
   "execution_count": 85,
   "id": "2a72f204-8a4b-4348-94f4-049396444558",
   "metadata": {},
   "outputs": [
    {
     "data": {
      "text/plain": [
       "status\n",
       "pending        1719\n",
       "Resolved       1644\n",
       "resolved       1608\n",
       "in_progress    1601\n",
       "Name: count, dtype: int64"
      ]
     },
     "execution_count": 85,
     "metadata": {},
     "output_type": "execute_result"
    }
   ],
   "source": [
    "bank_complaints[\"status\"].value_counts()"
   ]
  },
  {
   "cell_type": "code",
   "execution_count": 86,
   "id": "b516d330-0881-4aaa-b807-174361ae7a67",
   "metadata": {},
   "outputs": [],
   "source": [
    "bank_complaints[\"status\"] = bank_complaints[\"status\"].str.strip().str.title() #4"
   ]
  },
  {
   "cell_type": "code",
   "execution_count": 87,
   "id": "f26c3272-14a8-4488-b20f-f2487b2ed9a7",
   "metadata": {},
   "outputs": [
    {
     "data": {
      "text/plain": [
       "status\n",
       "Resolved       3252\n",
       "Pending        1719\n",
       "In_Progress    1601\n",
       "Name: count, dtype: int64"
      ]
     },
     "execution_count": 87,
     "metadata": {},
     "output_type": "execute_result"
    }
   ],
   "source": [
    "bank_complaints[\"status\"].value_counts()"
   ]
  },
  {
   "cell_type": "code",
   "execution_count": 88,
   "id": "e637c431-2a0b-4bdf-a105-37067a33136e",
   "metadata": {},
   "outputs": [
    {
     "data": {
      "text/plain": [
       "3428"
      ]
     },
     "execution_count": 88,
     "metadata": {},
     "output_type": "execute_result"
    }
   ],
   "source": [
    "bank_complaints[\"status\"].isnull().sum()"
   ]
  },
  {
   "cell_type": "code",
   "execution_count": 89,
   "id": "7532d981-0c74-4cca-80b7-fdfafa986e7d",
   "metadata": {},
   "outputs": [
    {
     "data": {
      "text/plain": [
       "complaint_id         0\n",
       "customer_id          0\n",
       "complaint_type       0\n",
       "complaint_date       0\n",
       "status            3428\n",
       "dtype: int64"
      ]
     },
     "execution_count": 89,
     "metadata": {},
     "output_type": "execute_result"
    }
   ],
   "source": [
    "bank_complaints.isnull().sum()"
   ]
  },
  {
   "cell_type": "code",
   "execution_count": 90,
   "id": "c35cd4b9-4875-47d2-a1b2-f8c81ec09862",
   "metadata": {},
   "outputs": [],
   "source": [
    "bank_complaints[\"status\"] = bank_complaints[\"status\"].fillna(\"Unknown\") #5"
   ]
  },
  {
   "cell_type": "code",
   "execution_count": null,
   "id": "0b280067-8566-4009-a786-651606c15505",
   "metadata": {},
   "outputs": [],
   "source": []
  }
 ],
 "metadata": {
  "kernelspec": {
   "display_name": "Python [conda env:base] *",
   "language": "python",
   "name": "conda-base-py"
  },
  "language_info": {
   "codemirror_mode": {
    "name": "ipython",
    "version": 3
   },
   "file_extension": ".py",
   "mimetype": "text/x-python",
   "name": "python",
   "nbconvert_exporter": "python",
   "pygments_lexer": "ipython3",
   "version": "3.12.7"
  }
 },
 "nbformat": 4,
 "nbformat_minor": 5
}
