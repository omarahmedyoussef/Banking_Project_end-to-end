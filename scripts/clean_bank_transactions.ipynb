{
 "cells": [
  {
   "cell_type": "code",
   "execution_count": 3,
   "id": "6e8b4a79-6ffd-4357-9e60-494f3dddb691",
   "metadata": {},
   "outputs": [
    {
     "name": "stdout",
     "output_type": "stream",
     "text": [
      "Transactions cleaned and saved successfully\n"
     ]
    }
   ],
   "source": [
    "import pandas as pd \n",
    "bank_transactions = pd.read_csv(\"/Users/mac/Desktop/Banking_project/raw_data_dirty/bank_transactions_dirty.csv\")\n",
    "bank_transactions[\"transaction_date\"] = pd.to_datetime(bank_transactions[\"transaction_date\"]) #1\n",
    "bank_transactions[\"transaction_type\"]=bank_transactions[\"transaction_type\"].str.strip().str.title() #2\n",
    "bank_transactions[\"transaction_type\"]=bank_transactions[\"transaction_type\"].replace({\n",
    "    \"Withdrawal\" : \"Withdraw\"\n",
    "}) #3\n",
    "# Fill missing transaction_type with 'Unknown' since we can't infer it from other fields\n",
    "bank_transactions[\"transaction_type\"] = bank_transactions[\"transaction_type\"].fillna(\"Unknown\")\n",
    "bank_transactions.to_csv(\"/Users/mac/Desktop/Banking_project/raw_data_clean/bank_transactions_cleaned.csv\",index=False)\n",
    "print(\"Transactions cleaned and saved successfully\")"
   ]
  },
  {
   "cell_type": "code",
   "execution_count": null,
   "id": "d12bb720-6db7-4414-9f5a-1bfbaa38f73b",
   "metadata": {},
   "outputs": [],
   "source": []
  }
 ],
 "metadata": {
  "kernelspec": {
   "display_name": "Python [conda env:base] *",
   "language": "python",
   "name": "conda-base-py"
  },
  "language_info": {
   "codemirror_mode": {
    "name": "ipython",
    "version": 3
   },
   "file_extension": ".py",
   "mimetype": "text/x-python",
   "name": "python",
   "nbconvert_exporter": "python",
   "pygments_lexer": "ipython3",
   "version": "3.12.7"
  }
 },
 "nbformat": 4,
 "nbformat_minor": 5
}
