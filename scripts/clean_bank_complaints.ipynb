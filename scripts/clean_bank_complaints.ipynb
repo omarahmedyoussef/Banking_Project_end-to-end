{
 "cells": [
  {
   "cell_type": "code",
   "execution_count": null,
   "id": "68eb2fbd-937f-455a-afa7-59bb600535b1",
   "metadata": {},
   "outputs": [],
   "source": [
    "import pandas as pd \n",
    "bank_complaints = pd.read_csv(\"/Users/mac/Desktop/Banking_project/raw_data_dirty/bank_complaints_dirty.csv\")\n",
    "bank_complaints[\"complaint_date\"] = pd.to_datetime(bank_complaints[\"complaint_date\"]) #1 \n",
    "bank_complaints[\"complaint_type\"] = bank_complaints[\"complaint_type\"].str.strip().str.title() #2 \n",
    "bank_complaints[\"complaint_type\"] = bank_complaints[\"complaint_type\"].fillna(\"Other\") #3\n",
    "bank_complaints[\"status\"] = bank_complaints[\"status\"].str.strip().str.title() #4\n",
    "bank_complaints[\"status\"] = bank_complaints[\"status\"].fillna(\"Unknown\") #5 \n",
    "bank_complaints.to_csv(\"/Users/mac/Desktop/Banking_project/raw_data_clean/bank_complaints\",index=False)"
   ]
  }
 ],
 "metadata": {
  "kernelspec": {
   "display_name": "Python [conda env:base] *",
   "language": "python",
   "name": "conda-base-py"
  },
  "language_info": {
   "codemirror_mode": {
    "name": "ipython",
    "version": 3
   },
   "file_extension": ".py",
   "mimetype": "text/x-python",
   "name": "python",
   "nbconvert_exporter": "python",
   "pygments_lexer": "ipython3",
   "version": "3.12.7"
  }
 },
 "nbformat": 4,
 "nbformat_minor": 5
}
